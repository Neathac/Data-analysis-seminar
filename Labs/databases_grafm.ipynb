{
 "cells": [
  {
   "attachments": {},
   "cell_type": "markdown",
   "metadata": {},
   "source": [
    "# Databases lab\n",
    "See https://su.mff.cuni.cz/view/browse/home/martav/seminardm/ for specific instructions.\n",
    "\n",
    "Following our instructions, we start by downloading and unzipping our ready-to-go oracle client. We are then ready to include our packages and estabilish a connection:"
   ]
  },
  {
   "cell_type": "code",
   "execution_count": 7,
   "metadata": {},
   "outputs": [],
   "source": [
    "import numpy as np\n",
    "import pandas as pd\n",
    "import cx_Oracle\n",
    "import json\n",
    "import os"
   ]
  },
  {
   "cell_type": "code",
   "execution_count": null,
   "metadata": {},
   "outputs": [],
   "source": [
    "cx_Oracle.init_oracle_client(lib_dir=\"C:\\Program Files\\instantclient_21_9\") # Initialize the client\n",
    "\n",
    "import warnings\n",
    "warnings.simplefilter(\"ignore\")"
   ]
  },
  {
   "attachments": {},
   "cell_type": "markdown",
   "metadata": {},
   "source": [
    "We make a connection, because the downloadable file has 51MB :)\n",
    "We limit to only movies with id below 25 because we get timed out due to our internet speed oterwise :(("
   ]
  },
  {
   "cell_type": "code",
   "execution_count": 10,
   "metadata": {},
   "outputs": [
    {
     "name": "stdout",
     "output_type": "stream",
     "text": [
      "        USERID  MOVIEID  RATING          TS         DT  TOP5     K  DTYY  \\\n",
      "0      2413320        1       4  2004-02-06 2004-02-06  None   441  2004   \n",
      "1        87113        1       2  2005-09-21 2005-09-21  None    99  2005   \n",
      "2       722591        1       5  2004-03-08 2004-03-08  None  1407  2004   \n",
      "3      2291306        1       1  2004-03-01 2004-03-01  None  1204  2004   \n",
      "4      2010770        1       4  2004-12-30 2004-12-30  None    18  2004   \n",
      "...        ...      ...     ...         ...        ...   ...   ...   ...   \n",
      "23832  1693629       19       4  2005-08-03 2005-08-03  None    27  2005   \n",
      "23833  1796151       19       3  2005-01-19 2005-01-19  None    30  2005   \n",
      "23834  1790158       19       3  2005-10-18 2005-10-18  None   270  2005   \n",
      "23835   686526       19       4  2003-12-13 2003-12-13  None   157  2003   \n",
      "23836  2510785       19       5  2005-09-14 2005-09-14  None   387  2005   \n",
      "\n",
      "       DTMM  DTDW  DTHH   KTT TRAIN TEST  DIFF  \n",
      "0         2     6     0   330     A    N   0.0  \n",
      "1         9     4     0    89     A    N  -2.0  \n",
      "2         3     2     0  1168     A    N   1.0  \n",
      "3         3     2     0  1063     A    N  -3.0  \n",
      "4        12     5     0    16     A    N   0.0  \n",
      "...     ...   ...   ...   ...   ...  ...   ...  \n",
      "23832     8     4     0    25     A    N   1.0  \n",
      "23833     1     4     0    30     A    N   0.0  \n",
      "23834    10     3     0   242     A    N   0.0  \n",
      "23835    12     7     0   151     A    N   1.0  \n",
      "23836     9     4     0   376     A    N   2.0  \n",
      "\n",
      "[23837 rows x 15 columns]\n"
     ]
    }
   ],
   "source": [
    "connection =cx_Oracle.connect(user='websem', password='websem108', dsn='tirpitz.ms.mff.cuni.cz:1511/jedenact.ms.mff.cuni.cz')\n",
    "ratings=pd.read_sql_query('''select * from FRATINGS WHERE MOVIEID<20''', connection)\n",
    "print(ratings)"
   ]
  },
  {
   "cell_type": "code",
   "execution_count": 14,
   "metadata": {},
   "outputs": [
    {
     "name": "stdout",
     "output_type": "stream",
     "text": [
      "We will be working with the following columns: Index(['USERID', 'MOVIEID', 'RATING', 'TS', 'DT', 'TOP5', 'K', 'DTYY', 'DTMM',\n",
      "       'DTDW', 'DTHH', 'KTT', 'TRAIN', 'TEST', 'DIFF'],\n",
      "      dtype='object').\n"
     ]
    }
   ],
   "source": [
    "print('We will be working with the following columns: {}.'.format(ratings.columns.values))"
   ]
  },
  {
   "attachments": {},
   "cell_type": "markdown",
   "metadata": {},
   "source": [
    "We already know how many rows this dataframe has, considering we specifically limited it, but IDs are no insurance, let's check anyways:"
   ]
  },
  {
   "cell_type": "code",
   "execution_count": 18,
   "metadata": {},
   "outputs": [
    {
     "name": "stdout",
     "output_type": "stream",
     "text": [
      "We will be working with 23837 rows.\n"
     ]
    }
   ],
   "source": [
    "print('We will be working with {} rows.'.format(len(ratings)))"
   ]
  },
  {
   "attachments": {},
   "cell_type": "markdown",
   "metadata": {},
   "source": [
    "Now simply for exercise:"
   ]
  },
  {
   "cell_type": "code",
   "execution_count": 34,
   "metadata": {},
   "outputs": [
    {
     "name": "stdout",
     "output_type": "stream",
     "text": [
      "There are 3798 universally popular movies.\n"
     ]
    }
   ],
   "source": [
    "print('There are {} universally popular movies.'.format((len(ratings[ratings[(ratings['MOVIEID']<20)].RATING == 5]))))"
   ]
  },
  {
   "attachments": {},
   "cell_type": "markdown",
   "metadata": {},
   "source": [
    "User 11 specifically rated:"
   ]
  },
  {
   "cell_type": "code",
   "execution_count": 44,
   "metadata": {},
   "outputs": [
    {
     "name": "stdout",
     "output_type": "stream",
     "text": [
      "User 11 rated [] movies.\n"
     ]
    }
   ],
   "source": [
    "print('User 11 rated {} movies.'.format(ratings[ratings['USERID'] == 11].MOVIEID.values))"
   ]
  },
  {
   "attachments": {},
   "cell_type": "markdown",
   "metadata": {},
   "source": [
    "__Worked on by Martin Gráf__"
   ]
  }
 ],
 "metadata": {
  "kernelspec": {
   "display_name": "venv",
   "language": "python",
   "name": "python3"
  },
  "language_info": {
   "codemirror_mode": {
    "name": "ipython",
    "version": 3
   },
   "file_extension": ".py",
   "mimetype": "text/x-python",
   "name": "python",
   "nbconvert_exporter": "python",
   "pygments_lexer": "ipython3",
   "version": "3.10.4"
  },
  "orig_nbformat": 4,
  "vscode": {
   "interpreter": {
    "hash": "74b6f20d079f6c9f4c92a2b50fa5deae197f2067d34f69e98f62c685c385ce64"
   }
  }
 },
 "nbformat": 4,
 "nbformat_minor": 2
}
