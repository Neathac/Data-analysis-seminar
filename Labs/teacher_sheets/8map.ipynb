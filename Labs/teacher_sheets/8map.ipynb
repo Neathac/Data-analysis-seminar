{
 "cells": [
  {
   "cell_type": "markdown",
   "metadata": {
    "id": "xOjSdwanpGeh"
   },
   "source": [
    "# Geopandas - Map display\n",
    "\n",
    "uses: geopandas, geojson\n",
    "data: Czech districts, Czech cities, my 'volby' file (Czech election results)."
   ]
  },
  {
   "cell_type": "code",
   "execution_count": 26,
   "metadata": {
    "id": "gbWD7wOa6GyI"
   },
   "outputs": [],
   "source": [
    "%%capture\n",
    "!pip install geopandas\n",
    "!pip install geojson"
   ]
  },
  {
   "cell_type": "code",
   "execution_count": 2,
   "metadata": {
    "id": "slJOf60g8bAp"
   },
   "outputs": [],
   "source": [
    "from shapely.geometry import Point\n",
    "import pandas as pd\n",
    "import matplotlib.pyplot as plt\n",
    "import geopandas\n",
    "import geojson\n",
    "import json\n",
    "#import plotly.express as px\n"
   ]
  },
  {
   "cell_type": "markdown",
   "metadata": {
    "id": "4u6a7qcnphfS"
   },
   "source": [
    "## Load the coordinates of Czech cities and towns\n",
    "\n",
    "The last column: geometry\n",
    "a city is a POINT\n",
    "\n",
    "\n",
    "urllib : read from the internet"
   ]
  },
  {
   "cell_type": "code",
   "execution_count": 3,
   "metadata": {
    "colab": {
     "base_uri": "https://localhost:8080/",
     "height": 112
    },
    "id": "NVurRgkpz4Ju",
    "outputId": "7cd79e64-5015-4aa0-c200-69e0f1cf1f13"
   },
   "outputs": [
    {
     "data": {
      "text/html": [
       "\n",
       "  <div id=\"df-3223c82e-62e7-4735-86e3-c557fae452d5\">\n",
       "    <div class=\"colab-df-container\">\n",
       "      <div>\n",
       "<style scoped>\n",
       "    .dataframe tbody tr th:only-of-type {\n",
       "        vertical-align: middle;\n",
       "    }\n",
       "\n",
       "    .dataframe tbody tr th {\n",
       "        vertical-align: top;\n",
       "    }\n",
       "\n",
       "    .dataframe thead th {\n",
       "        text-align: right;\n",
       "    }\n",
       "</style>\n",
       "<table border=\"1\" class=\"dataframe\">\n",
       "  <thead>\n",
       "    <tr style=\"text-align: right;\">\n",
       "      <th></th>\n",
       "      <th>Obec</th>\n",
       "      <th>Kód obce</th>\n",
       "      <th>Okres</th>\n",
       "      <th>Kód okresu</th>\n",
       "      <th>Kraj</th>\n",
       "      <th>Kód kraje</th>\n",
       "      <th>PSČ</th>\n",
       "      <th>Latitude</th>\n",
       "      <th>Longitude</th>\n",
       "      <th>ISO3166-2</th>\n",
       "      <th>geometry</th>\n",
       "    </tr>\n",
       "  </thead>\n",
       "  <tbody>\n",
       "    <tr>\n",
       "      <th>0</th>\n",
       "      <td>Abertamy</td>\n",
       "      <td>554979</td>\n",
       "      <td>Karlovy Vary</td>\n",
       "      <td>CZ0412</td>\n",
       "      <td>Karlovarský kraj</td>\n",
       "      <td>CZ041</td>\n",
       "      <td>36235</td>\n",
       "      <td>50.368855</td>\n",
       "      <td>12.818377</td>\n",
       "      <td>CZ-41</td>\n",
       "      <td>POINT (12.81838 50.36886)</td>\n",
       "    </tr>\n",
       "    <tr>\n",
       "      <th>1</th>\n",
       "      <td>Adamov</td>\n",
       "      <td>535826</td>\n",
       "      <td>České Budějovice</td>\n",
       "      <td>CZ0311</td>\n",
       "      <td>Jihočeský kraj</td>\n",
       "      <td>CZ031</td>\n",
       "      <td>37371</td>\n",
       "      <td>49.000624</td>\n",
       "      <td>14.539603</td>\n",
       "      <td>CZ-31</td>\n",
       "      <td>POINT (14.53960 49.00062)</td>\n",
       "    </tr>\n",
       "  </tbody>\n",
       "</table>\n",
       "</div>\n",
       "      <button class=\"colab-df-convert\" onclick=\"convertToInteractive('df-3223c82e-62e7-4735-86e3-c557fae452d5')\"\n",
       "              title=\"Convert this dataframe to an interactive table.\"\n",
       "              style=\"display:none;\">\n",
       "        \n",
       "  <svg xmlns=\"http://www.w3.org/2000/svg\" height=\"24px\"viewBox=\"0 0 24 24\"\n",
       "       width=\"24px\">\n",
       "    <path d=\"M0 0h24v24H0V0z\" fill=\"none\"/>\n",
       "    <path d=\"M18.56 5.44l.94 2.06.94-2.06 2.06-.94-2.06-.94-.94-2.06-.94 2.06-2.06.94zm-11 1L8.5 8.5l.94-2.06 2.06-.94-2.06-.94L8.5 2.5l-.94 2.06-2.06.94zm10 10l.94 2.06.94-2.06 2.06-.94-2.06-.94-.94-2.06-.94 2.06-2.06.94z\"/><path d=\"M17.41 7.96l-1.37-1.37c-.4-.4-.92-.59-1.43-.59-.52 0-1.04.2-1.43.59L10.3 9.45l-7.72 7.72c-.78.78-.78 2.05 0 2.83L4 21.41c.39.39.9.59 1.41.59.51 0 1.02-.2 1.41-.59l7.78-7.78 2.81-2.81c.8-.78.8-2.07 0-2.86zM5.41 20L4 18.59l7.72-7.72 1.47 1.35L5.41 20z\"/>\n",
       "  </svg>\n",
       "      </button>\n",
       "      \n",
       "  <style>\n",
       "    .colab-df-container {\n",
       "      display:flex;\n",
       "      flex-wrap:wrap;\n",
       "      gap: 12px;\n",
       "    }\n",
       "\n",
       "    .colab-df-convert {\n",
       "      background-color: #E8F0FE;\n",
       "      border: none;\n",
       "      border-radius: 50%;\n",
       "      cursor: pointer;\n",
       "      display: none;\n",
       "      fill: #1967D2;\n",
       "      height: 32px;\n",
       "      padding: 0 0 0 0;\n",
       "      width: 32px;\n",
       "    }\n",
       "\n",
       "    .colab-df-convert:hover {\n",
       "      background-color: #E2EBFA;\n",
       "      box-shadow: 0px 1px 2px rgba(60, 64, 67, 0.3), 0px 1px 3px 1px rgba(60, 64, 67, 0.15);\n",
       "      fill: #174EA6;\n",
       "    }\n",
       "\n",
       "    [theme=dark] .colab-df-convert {\n",
       "      background-color: #3B4455;\n",
       "      fill: #D2E3FC;\n",
       "    }\n",
       "\n",
       "    [theme=dark] .colab-df-convert:hover {\n",
       "      background-color: #434B5C;\n",
       "      box-shadow: 0px 1px 3px 1px rgba(0, 0, 0, 0.15);\n",
       "      filter: drop-shadow(0px 1px 2px rgba(0, 0, 0, 0.3));\n",
       "      fill: #FFFFFF;\n",
       "    }\n",
       "  </style>\n",
       "\n",
       "      <script>\n",
       "        const buttonEl =\n",
       "          document.querySelector('#df-3223c82e-62e7-4735-86e3-c557fae452d5 button.colab-df-convert');\n",
       "        buttonEl.style.display =\n",
       "          google.colab.kernel.accessAllowed ? 'block' : 'none';\n",
       "\n",
       "        async function convertToInteractive(key) {\n",
       "          const element = document.querySelector('#df-3223c82e-62e7-4735-86e3-c557fae452d5');\n",
       "          const dataTable =\n",
       "            await google.colab.kernel.invokeFunction('convertToInteractive',\n",
       "                                                     [key], {});\n",
       "          if (!dataTable) return;\n",
       "\n",
       "          const docLinkHtml = 'Like what you see? Visit the ' +\n",
       "            '<a target=\"_blank\" href=https://colab.research.google.com/notebooks/data_table.ipynb>data table notebook</a>'\n",
       "            + ' to learn more about interactive tables.';\n",
       "          element.innerHTML = '';\n",
       "          dataTable['output_type'] = 'display_data';\n",
       "          await google.colab.output.renderOutput(dataTable, element);\n",
       "          const docLink = document.createElement('div');\n",
       "          docLink.innerHTML = docLinkHtml;\n",
       "          element.appendChild(docLink);\n",
       "        }\n",
       "      </script>\n",
       "    </div>\n",
       "  </div>\n",
       "  "
      ],
      "text/plain": [
       "       Obec  Kód obce             Okres Kód okresu              Kraj  \\\n",
       "0  Abertamy    554979      Karlovy Vary     CZ0412  Karlovarský kraj   \n",
       "1    Adamov    535826  České Budějovice     CZ0311    Jihočeský kraj   \n",
       "\n",
       "  Kód kraje    PSČ   Latitude  Longitude ISO3166-2                   geometry  \n",
       "0     CZ041  36235  50.368855  12.818377     CZ-41  POINT (12.81838 50.36886)  \n",
       "1     CZ031  37371  49.000624  14.539603     CZ-31  POINT (14.53960 49.00062)  "
      ]
     },
     "execution_count": 3,
     "metadata": {},
     "output_type": "execute_result"
    }
   ],
   "source": [
    "import urllib.request as urllib2\n",
    "url='https://raw.githubusercontent.com/33bcdd/souradnice-mest/master/souradnice.csv'\n",
    "## thanks to M.Zemek, T. Protivinsky a 33bcdd : https://github.com/33bcdd/souradnice-mest\n",
    "with urllib2.urlopen(url) as f:\n",
    "    cities=pd.read_csv(f)\n",
    "cities['ISO3166-2']=cities['Kód kraje'].apply(lambda x: x[:2]+'-'+x[3:5])\n",
    "cities = geopandas.GeoDataFrame(\n",
    "    cities, geometry=geopandas.points_from_xy(cities.Longitude, cities.Latitude))\n",
    "cities[:2]\n"
   ]
  },
  {
   "cell_type": "markdown",
   "metadata": {
    "id": "IiYzUNPopzVs"
   },
   "source": [
    "## A way to get `Longitude` from the POINT"
   ]
  },
  {
   "cell_type": "code",
   "execution_count": 25,
   "metadata": {
    "colab": {
     "base_uri": "https://localhost:8080/"
    },
    "id": "ispwKNOS85gQ",
    "outputId": "749e35ff-c92d-4bbb-8647-36672f36ff81"
   },
   "outputs": [
    {
     "data": {
      "text/plain": [
       "0    12.818377\n",
       "1    14.539603\n",
       "2    16.663955\n",
       "dtype: float64"
      ]
     },
     "execution_count": 25,
     "metadata": {},
     "output_type": "execute_result"
    }
   ],
   "source": [
    "from shapely.geometry import Point\n",
    "c=cities['geometry']\n",
    "c.x[:3]"
   ]
  },
  {
   "cell_type": "markdown",
   "metadata": {
    "id": "Iq88-vDpqCU6"
   },
   "source": [
    "## Load the Czech districts geometry as `POLYGON`s"
   ]
  },
  {
   "cell_type": "code",
   "execution_count": 28,
   "metadata": {
    "colab": {
     "base_uri": "https://localhost:8080/",
     "height": 112
    },
    "id": "HXXEjWN4Kcle",
    "outputId": "8373c179-1319-4e37-bf31-2a81584d478a"
   },
   "outputs": [
    {
     "data": {
      "text/html": [
       "\n",
       "  <div id=\"df-71384c86-10d9-4a02-994b-41f662e6d569\">\n",
       "    <div class=\"colab-df-container\">\n",
       "      <div>\n",
       "<style scoped>\n",
       "    .dataframe tbody tr th:only-of-type {\n",
       "        vertical-align: middle;\n",
       "    }\n",
       "\n",
       "    .dataframe tbody tr th {\n",
       "        vertical-align: top;\n",
       "    }\n",
       "\n",
       "    .dataframe thead th {\n",
       "        text-align: right;\n",
       "    }\n",
       "</style>\n",
       "<table border=\"1\" class=\"dataframe\">\n",
       "  <thead>\n",
       "    <tr style=\"text-align: right;\">\n",
       "      <th></th>\n",
       "      <th>ISO3166-2</th>\n",
       "      <th>name</th>\n",
       "      <th>geometry</th>\n",
       "    </tr>\n",
       "  </thead>\n",
       "  <tbody>\n",
       "    <tr>\n",
       "      <th>0</th>\n",
       "      <td>CZ-10</td>\n",
       "      <td>Hlavní město Praha</td>\n",
       "      <td>POLYGON ((14.30639 49.99720, 14.33498 49.99385...</td>\n",
       "    </tr>\n",
       "    <tr>\n",
       "      <th>1</th>\n",
       "      <td>CZ-64</td>\n",
       "      <td>Jihomoravský kraj</td>\n",
       "      <td>POLYGON ((16.39204 49.58012, 16.37304 49.55359...</td>\n",
       "    </tr>\n",
       "  </tbody>\n",
       "</table>\n",
       "</div>\n",
       "      <button class=\"colab-df-convert\" onclick=\"convertToInteractive('df-71384c86-10d9-4a02-994b-41f662e6d569')\"\n",
       "              title=\"Convert this dataframe to an interactive table.\"\n",
       "              style=\"display:none;\">\n",
       "        \n",
       "  <svg xmlns=\"http://www.w3.org/2000/svg\" height=\"24px\"viewBox=\"0 0 24 24\"\n",
       "       width=\"24px\">\n",
       "    <path d=\"M0 0h24v24H0V0z\" fill=\"none\"/>\n",
       "    <path d=\"M18.56 5.44l.94 2.06.94-2.06 2.06-.94-2.06-.94-.94-2.06-.94 2.06-2.06.94zm-11 1L8.5 8.5l.94-2.06 2.06-.94-2.06-.94L8.5 2.5l-.94 2.06-2.06.94zm10 10l.94 2.06.94-2.06 2.06-.94-2.06-.94-.94-2.06-.94 2.06-2.06.94z\"/><path d=\"M17.41 7.96l-1.37-1.37c-.4-.4-.92-.59-1.43-.59-.52 0-1.04.2-1.43.59L10.3 9.45l-7.72 7.72c-.78.78-.78 2.05 0 2.83L4 21.41c.39.39.9.59 1.41.59.51 0 1.02-.2 1.41-.59l7.78-7.78 2.81-2.81c.8-.78.8-2.07 0-2.86zM5.41 20L4 18.59l7.72-7.72 1.47 1.35L5.41 20z\"/>\n",
       "  </svg>\n",
       "      </button>\n",
       "      \n",
       "  <style>\n",
       "    .colab-df-container {\n",
       "      display:flex;\n",
       "      flex-wrap:wrap;\n",
       "      gap: 12px;\n",
       "    }\n",
       "\n",
       "    .colab-df-convert {\n",
       "      background-color: #E8F0FE;\n",
       "      border: none;\n",
       "      border-radius: 50%;\n",
       "      cursor: pointer;\n",
       "      display: none;\n",
       "      fill: #1967D2;\n",
       "      height: 32px;\n",
       "      padding: 0 0 0 0;\n",
       "      width: 32px;\n",
       "    }\n",
       "\n",
       "    .colab-df-convert:hover {\n",
       "      background-color: #E2EBFA;\n",
       "      box-shadow: 0px 1px 2px rgba(60, 64, 67, 0.3), 0px 1px 3px 1px rgba(60, 64, 67, 0.15);\n",
       "      fill: #174EA6;\n",
       "    }\n",
       "\n",
       "    [theme=dark] .colab-df-convert {\n",
       "      background-color: #3B4455;\n",
       "      fill: #D2E3FC;\n",
       "    }\n",
       "\n",
       "    [theme=dark] .colab-df-convert:hover {\n",
       "      background-color: #434B5C;\n",
       "      box-shadow: 0px 1px 3px 1px rgba(0, 0, 0, 0.15);\n",
       "      filter: drop-shadow(0px 1px 2px rgba(0, 0, 0, 0.3));\n",
       "      fill: #FFFFFF;\n",
       "    }\n",
       "  </style>\n",
       "\n",
       "      <script>\n",
       "        const buttonEl =\n",
       "          document.querySelector('#df-71384c86-10d9-4a02-994b-41f662e6d569 button.colab-df-convert');\n",
       "        buttonEl.style.display =\n",
       "          google.colab.kernel.accessAllowed ? 'block' : 'none';\n",
       "\n",
       "        async function convertToInteractive(key) {\n",
       "          const element = document.querySelector('#df-71384c86-10d9-4a02-994b-41f662e6d569');\n",
       "          const dataTable =\n",
       "            await google.colab.kernel.invokeFunction('convertToInteractive',\n",
       "                                                     [key], {});\n",
       "          if (!dataTable) return;\n",
       "\n",
       "          const docLinkHtml = 'Like what you see? Visit the ' +\n",
       "            '<a target=\"_blank\" href=https://colab.research.google.com/notebooks/data_table.ipynb>data table notebook</a>'\n",
       "            + ' to learn more about interactive tables.';\n",
       "          element.innerHTML = '';\n",
       "          dataTable['output_type'] = 'display_data';\n",
       "          await google.colab.output.renderOutput(dataTable, element);\n",
       "          const docLink = document.createElement('div');\n",
       "          docLink.innerHTML = docLinkHtml;\n",
       "          element.appendChild(docLink);\n",
       "        }\n",
       "      </script>\n",
       "    </div>\n",
       "  </div>\n",
       "  "
      ],
      "text/plain": [
       "  ISO3166-2                name  \\\n",
       "0     CZ-10  Hlavní město Praha   \n",
       "1     CZ-64   Jihomoravský kraj   \n",
       "\n",
       "                                            geometry  \n",
       "0  POLYGON ((14.30639 49.99720, 14.33498 49.99385...  \n",
       "1  POLYGON ((16.39204 49.58012, 16.37304 49.55359...  "
      ]
     },
     "execution_count": 28,
     "metadata": {},
     "output_type": "execute_result"
    }
   ],
   "source": [
    "url='https://raw.githubusercontent.com/Plavit/Simple-Dash-Plotly-Map-Czech-Regions/main/maps/czech-regions-low-res.json'\n",
    "## Thanks to Plavit https://github.com/Plavit/Simple-Dash-Plotly-Map-Czech-Regions\n",
    "\n",
    "with urllib2.urlopen(url) as f:\n",
    "    df = geopandas.read_file(f)\n",
    "df[['ISO3166-2','name','geometry']].head(2)"
   ]
  },
  {
   "cell_type": "markdown",
   "metadata": {
    "id": "2VYgQdcxqrxA"
   },
   "source": [
    "## Load your user file (election results in this case)\n",
    "\n",
    "We transform the district ID to the `ISO3166-2` format to be able to merge with the previous dataframe."
   ]
  },
  {
   "cell_type": "code",
   "execution_count": 24,
   "metadata": {
    "colab": {
     "base_uri": "https://localhost:8080/",
     "height": 112
    },
    "id": "Z1VhFL-fHuEp",
    "outputId": "fd2e3e52-c241-4fa3-c74f-483b106913cc"
   },
   "outputs": [
    {
     "data": {
      "text/html": [
       "\n",
       "  <div id=\"df-608396ea-b1f4-4017-9df2-428ffac7315a\">\n",
       "    <div class=\"colab-df-container\">\n",
       "      <div>\n",
       "<style scoped>\n",
       "    .dataframe tbody tr th:only-of-type {\n",
       "        vertical-align: middle;\n",
       "    }\n",
       "\n",
       "    .dataframe tbody tr th {\n",
       "        vertical-align: top;\n",
       "    }\n",
       "\n",
       "    .dataframe thead th {\n",
       "        text-align: right;\n",
       "    }\n",
       "</style>\n",
       "<table border=\"1\" class=\"dataframe\">\n",
       "  <thead>\n",
       "    <tr style=\"text-align: right;\">\n",
       "      <th>skupina</th>\n",
       "      <th>index</th>\n",
       "      <th>ANO</th>\n",
       "      <th>CSSD</th>\n",
       "      <th>KSCM</th>\n",
       "      <th>PIRSTAN</th>\n",
       "      <th>SPD</th>\n",
       "      <th>SPOLU</th>\n",
       "      <th>o</th>\n",
       "      <th>ISO3166-2</th>\n",
       "    </tr>\n",
       "  </thead>\n",
       "  <tbody>\n",
       "    <tr>\n",
       "      <th>0</th>\n",
       "      <td>CZ010</td>\n",
       "      <td>109588</td>\n",
       "      <td>25116</td>\n",
       "      <td>13469</td>\n",
       "      <td>142100</td>\n",
       "      <td>28859</td>\n",
       "      <td>251090</td>\n",
       "      <td>57177</td>\n",
       "      <td>CZ-10</td>\n",
       "    </tr>\n",
       "    <tr>\n",
       "      <th>1</th>\n",
       "      <td>CZ020</td>\n",
       "      <td>176100</td>\n",
       "      <td>32245</td>\n",
       "      <td>24618</td>\n",
       "      <td>137532</td>\n",
       "      <td>55105</td>\n",
       "      <td>203091</td>\n",
       "      <td>77943</td>\n",
       "      <td>CZ-20</td>\n",
       "    </tr>\n",
       "  </tbody>\n",
       "</table>\n",
       "</div>\n",
       "      <button class=\"colab-df-convert\" onclick=\"convertToInteractive('df-608396ea-b1f4-4017-9df2-428ffac7315a')\"\n",
       "              title=\"Convert this dataframe to an interactive table.\"\n",
       "              style=\"display:none;\">\n",
       "        \n",
       "  <svg xmlns=\"http://www.w3.org/2000/svg\" height=\"24px\"viewBox=\"0 0 24 24\"\n",
       "       width=\"24px\">\n",
       "    <path d=\"M0 0h24v24H0V0z\" fill=\"none\"/>\n",
       "    <path d=\"M18.56 5.44l.94 2.06.94-2.06 2.06-.94-2.06-.94-.94-2.06-.94 2.06-2.06.94zm-11 1L8.5 8.5l.94-2.06 2.06-.94-2.06-.94L8.5 2.5l-.94 2.06-2.06.94zm10 10l.94 2.06.94-2.06 2.06-.94-2.06-.94-.94-2.06-.94 2.06-2.06.94z\"/><path d=\"M17.41 7.96l-1.37-1.37c-.4-.4-.92-.59-1.43-.59-.52 0-1.04.2-1.43.59L10.3 9.45l-7.72 7.72c-.78.78-.78 2.05 0 2.83L4 21.41c.39.39.9.59 1.41.59.51 0 1.02-.2 1.41-.59l7.78-7.78 2.81-2.81c.8-.78.8-2.07 0-2.86zM5.41 20L4 18.59l7.72-7.72 1.47 1.35L5.41 20z\"/>\n",
       "  </svg>\n",
       "      </button>\n",
       "      \n",
       "  <style>\n",
       "    .colab-df-container {\n",
       "      display:flex;\n",
       "      flex-wrap:wrap;\n",
       "      gap: 12px;\n",
       "    }\n",
       "\n",
       "    .colab-df-convert {\n",
       "      background-color: #E8F0FE;\n",
       "      border: none;\n",
       "      border-radius: 50%;\n",
       "      cursor: pointer;\n",
       "      display: none;\n",
       "      fill: #1967D2;\n",
       "      height: 32px;\n",
       "      padding: 0 0 0 0;\n",
       "      width: 32px;\n",
       "    }\n",
       "\n",
       "    .colab-df-convert:hover {\n",
       "      background-color: #E2EBFA;\n",
       "      box-shadow: 0px 1px 2px rgba(60, 64, 67, 0.3), 0px 1px 3px 1px rgba(60, 64, 67, 0.15);\n",
       "      fill: #174EA6;\n",
       "    }\n",
       "\n",
       "    [theme=dark] .colab-df-convert {\n",
       "      background-color: #3B4455;\n",
       "      fill: #D2E3FC;\n",
       "    }\n",
       "\n",
       "    [theme=dark] .colab-df-convert:hover {\n",
       "      background-color: #434B5C;\n",
       "      box-shadow: 0px 1px 3px 1px rgba(0, 0, 0, 0.15);\n",
       "      filter: drop-shadow(0px 1px 2px rgba(0, 0, 0, 0.3));\n",
       "      fill: #FFFFFF;\n",
       "    }\n",
       "  </style>\n",
       "\n",
       "      <script>\n",
       "        const buttonEl =\n",
       "          document.querySelector('#df-608396ea-b1f4-4017-9df2-428ffac7315a button.colab-df-convert');\n",
       "        buttonEl.style.display =\n",
       "          google.colab.kernel.accessAllowed ? 'block' : 'none';\n",
       "\n",
       "        async function convertToInteractive(key) {\n",
       "          const element = document.querySelector('#df-608396ea-b1f4-4017-9df2-428ffac7315a');\n",
       "          const dataTable =\n",
       "            await google.colab.kernel.invokeFunction('convertToInteractive',\n",
       "                                                     [key], {});\n",
       "          if (!dataTable) return;\n",
       "\n",
       "          const docLinkHtml = 'Like what you see? Visit the ' +\n",
       "            '<a target=\"_blank\" href=https://colab.research.google.com/notebooks/data_table.ipynb>data table notebook</a>'\n",
       "            + ' to learn more about interactive tables.';\n",
       "          element.innerHTML = '';\n",
       "          dataTable['output_type'] = 'display_data';\n",
       "          await google.colab.output.renderOutput(dataTable, element);\n",
       "          const docLink = document.createElement('div');\n",
       "          docLink.innerHTML = docLinkHtml;\n",
       "          element.appendChild(docLink);\n",
       "        }\n",
       "      </script>\n",
       "    </div>\n",
       "  </div>\n",
       "  "
      ],
      "text/plain": [
       "skupina  index     ANO   CSSD   KSCM  PIRSTAN    SPD   SPOLU      o ISO3166-2\n",
       "0        CZ010  109588  25116  13469   142100  28859  251090  57177     CZ-10\n",
       "1        CZ020  176100  32245  24618   137532  55105  203091  77943     CZ-20"
      ]
     },
     "execution_count": 24,
     "metadata": {},
     "output_type": "execute_result"
    }
   ],
   "source": [
    "url='https://ktiml.mff.cuni.cz/~marta/volby2021.csv'\n",
    "with urllib2.urlopen(url) as f:\n",
    "  volby=pd.read_csv(f,sep='\\t')\n",
    "#    gj = geojson.load(f)\n",
    "#gj.features[:2]\n",
    "volby=volby.groupby('skupina').sum().transpose()\n",
    "volby.reset_index(inplace=True)\n",
    "\n",
    "volby['ISO3166-2']=volby['index'].apply(lambda x: x[:2]+'-'+x[3:5])\n",
    "volby.head(2)"
   ]
  },
  {
   "cell_type": "markdown",
   "metadata": {
    "id": "hVEIZ12WrFga"
   },
   "source": [
    "## Merge the DataFrames and create a GeoDataFrame"
   ]
  },
  {
   "cell_type": "code",
   "execution_count": 29,
   "metadata": {
    "colab": {
     "base_uri": "https://localhost:8080/"
    },
    "id": "jIzVZwXQR-YM",
    "outputId": "894d4f40-76e0-47e5-d135-359f06b79abc"
   },
   "outputs": [
    {
     "data": {
      "text/plain": [
       "Index(['index', 'ANO', 'CSSD', 'KSCM', 'PIRSTAN', 'SPD', 'SPOLU', 'o',\n",
       "       'ISO3166-2', 'admin_level', 'boundary', 'name', 'name:cs', 'name:de',\n",
       "       'name:en', 'name:eo', 'name:fi', 'name:fr', 'name:hr', 'name:hu',\n",
       "       'name:lt', 'name:nl', 'name:pl', 'name:ru', 'population', 'ref',\n",
       "       'ref:NUTS', 'source', 'source:population', 'type', 'wikidata',\n",
       "       'wikipedia', 'id', 'geometry'],\n",
       "      dtype='object')"
      ]
     },
     "execution_count": 29,
     "metadata": {},
     "output_type": "execute_result"
    }
   ],
   "source": [
    "volby_geom=pd.merge(volby,df, on='ISO3166-2')\n",
    "volby_geom=geopandas.GeoDataFrame(volby_geom)\n",
    "volby_geom.columns"
   ]
  },
  {
   "cell_type": "markdown",
   "metadata": {
    "id": "7c4Ejp97rSdl"
   },
   "source": [
    "## And plot the election results of SPOLU party"
   ]
  },
  {
   "cell_type": "code",
   "execution_count": 23,
   "metadata": {
    "colab": {
     "base_uri": "https://localhost:8080/",
     "height": 268
    },
    "id": "7qiVqi6iX0bK",
    "outputId": "3805d4b4-ce2c-4d6b-a064-45af650b7a03"
   },
   "outputs": [
    {
     "data": {
      "text/plain": [
       "<matplotlib.axes._subplots.AxesSubplot at 0x7ff23e571bd0>"
      ]
     },
     "execution_count": 23,
     "metadata": {},
     "output_type": "execute_result"
    },
    {
     "data": {
      "image/png": "[encoded data removed]",
      "text/plain": [
       "<Figure size 432x288 with 2 Axes>"
      ]
     },
     "metadata": {
      "needs_background": "light"
     },
     "output_type": "display_data"
    }
   ],
   "source": [
    "volby_geom.plot(column='SPOLU', cmap='OrRd', edgecolor='k', legend=True)"
   ]
  },
  {
   "cell_type": "markdown",
   "metadata": {
    "id": "JS4vD-6yrfCO"
   },
   "source": [
    "## The district capitals plot"
   ]
  },
  {
   "cell_type": "code",
   "execution_count": null,
   "metadata": {
    "colab": {
     "base_uri": "https://localhost:8080/",
     "height": 189
    },
    "id": "BzZY0g-rOA1j",
    "outputId": "6b138841-c8ec-4db3-c1ff-92c0ee576448"
   },
   "outputs": [
    {
     "data": {
      "text/plain": [
       "<Figure size 720x1008 with 0 Axes>"
      ]
     },
     "metadata": {},
     "output_type": "display_data"
    },
    {
     "data": {
      "image/png": "[encoded data removed]",
      "text/plain": [
       "<Figure size 432x288 with 1 Axes>"
      ]
     },
     "metadata": {
      "needs_background": "light"
     },
     "output_type": "display_data"
    }
   ],
   "source": [
    "plt.figure(figsize=(10,14))\n",
    "okresy=cities[cities.Obec==cities.Okres]\n",
    "ax = df[\"geometry\"].plot(color='white', edgecolor='black')\n",
    "okresy.plot(ax=ax,color='red')\n",
    "plt.show()\n"
   ]
  },
  {
   "cell_type": "markdown",
   "metadata": {
    "id": "L-8x_4t1rqG5"
   },
   "source": [
    "## Public data with low resolutions: the countries and cities"
   ]
  },
  {
   "cell_type": "code",
   "execution_count": null,
   "metadata": {
    "colab": {
     "base_uri": "https://localhost:8080/",
     "height": 265
    },
    "id": "N9aIwa4p8R22",
    "outputId": "cb412699-5bbb-4afc-9383-6f99b3f0aee3"
   },
   "outputs": [
    {
     "data": {
      "image/png": "[encoded data removed]",
      "text/plain": [
       "<Figure size 432x288 with 1 Axes>"
      ]
     },
     "metadata": {
      "needs_background": "light"
     },
     "output_type": "display_data"
    }
   ],
   "source": [
    "world = geopandas.read_file(geopandas.datasets.get_path('naturalearth_lowres'))\n",
    "world_cities = geopandas.read_file(geopandas.datasets.get_path('naturalearth_cities'))\n",
    "\n",
    "# We restrict to Europe.\n",
    "eur=world[(world.continent == 'Europe')]\n",
    "eu=eur[(eur.name!='Russia')]\n",
    "\n",
    "## use the same geometry for countries and cities\n",
    "ax = eu[\"geometry\"].plot(color='white', edgecolor='black')\n",
    "\n",
    "## I exclute the southern island cities as well.\n",
    "world_cities[world_cities.geometry.y>38].plot(ax=ax)\n",
    "\n",
    "plt.xlim(-25,45)\n",
    "plt.ylim(30,83)\n",
    "plt.show()"
   ]
  }
 ],
 "metadata": {
  "colab": {
   "collapsed_sections": [],
   "name": "mapa.ipynb",
   "provenance": []
  },
  "hide_input": false,
  "kernelspec": {
   "display_name": "Python 3",
   "language": "python",
   "name": "python3"
  },
  "language_info": {
   "codemirror_mode": {
    "name": "ipython",
    "version": 3
   },
   "file_extension": ".py",
   "mimetype": "text/x-python",
   "name": "python",
   "nbconvert_exporter": "python",
   "pygments_lexer": "ipython3",
   "version": "3.8.1"
  }
 },
 "nbformat": 4,
 "nbformat_minor": 1
}
