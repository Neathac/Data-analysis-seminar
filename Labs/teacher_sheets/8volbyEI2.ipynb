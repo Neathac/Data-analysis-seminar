{
 "cells": [
  {
   "cell_type": "markdown",
   "metadata": {
    "id": "kunXDS9Glcb8"
   },
   "source": [
    "# Ekologická inference a Sankey graf\n",
    "\n",
    "Možná jste viděli graf, jak se přesouvají voliči stran. Ráda bych, abyste podobný graf zpracovali pro předposlední a poslední volby.\n",
    "\n",
    "Jde o to, že pro jednotlivé volební okrsky budete mít dva typy informací: jednak procenta hlasů stranám v minulých volbách, jednak procenta v současných volbách.\n",
    "\n",
    "V příkladu zde jde o procenta národnostního složení a procenta volebních preferencí.\n",
    "\n",
    "Nejdříve pomocí Ekologické Infernce najdeme model, který 'spáruje' jednu a druhou kategorii podle maximálně věrohodných parametrů $\\beta$ lineání regrese, ze kterých pak vypočte 'procenta' hlasů v nových volbách pro jednotlivé třídy voleb minulých (národnostní skupiny).\n",
    "\n",
    "Výsledek zobrazíme Sankey grafem."
   ]
  },
  {
   "cell_type": "code",
   "execution_count": 1,
   "metadata": {
    "id": "2lcHikcTfG2n"
   },
   "outputs": [],
   "source": [
    "import pandas as pd\n",
    "\n",
    "VERBOSE=False\n",
    "\n",
    "v2017=pd.read_csv('https://ktiml.mff.cuni.cz/~marta/volby2017.csv',sep='\\t',encoding='cp1250')\n",
    "v2021=pd.read_csv('https://ktiml.mff.cuni.cz/~marta/volby2021.csv',sep='\\t',encoding='cp1250')\n",
    "nazvy=pd.read_csv('https://ktiml.mff.cuni.cz/~marta/kraje.csv',sep='\\t',encoding='cp1250')[2:]\n",
    "\n",
    "if VERBOSE:\n",
    "    print(v2017.head(1))\n",
    "    print(v2021.head(1))\n",
    "    print(nazvy.head(1))    "
   ]
  },
  {
   "cell_type": "markdown",
   "metadata": {
    "id": "u_65DGtyC608"
   },
   "source": [
    "## Spouštím na https://colab.research.google.com/drive/\n",
    "\n",
    "kde musím instalovat knihovny ... ale funguje to."
   ]
  },
  {
   "cell_type": "code",
   "execution_count": 2,
   "metadata": {
    "id": "WDBFf2UESL7C"
   },
   "outputs": [
    {
     "name": "stderr",
     "output_type": "stream",
     "text": [
      "WARNING (theano.configdefaults): g++ not available, if using conda: `conda install m2w64-toolchain`\n",
      "WARNING (theano.configdefaults): g++ not detected ! Theano will be unable to execute optimized C-implementations (for both CPU and GPU) and will default to Python implementations. Performance will be severely degraded. To remove this warning, set Theano flags cxx to an empty string.\n",
      "WARNING (theano.tensor.blas): Using NumPy C-API based implementation for BLAS functions.\n"
     ]
    }
   ],
   "source": [
    "#! pip install pyei\n",
    "#!pip install plotly\n",
    "import numpy as np\n",
    "import pymc3 as pm\n",
    "\n",
    "from pyei.data import Datasets\n",
    "from pyei.two_by_two import TwoByTwoEI\n",
    "from pyei.goodmans_er import GoodmansER\n",
    "from pyei.goodmans_er import GoodmansERBayes\n",
    "from pyei.r_by_c import RowByColumnEI"
   ]
  },
  {
   "cell_type": "markdown",
   "metadata": {
    "id": "S-Kb25FBDGms"
   },
   "source": [
    "### Příprava dat\n",
    "\n",
    "součet po skupinách stran"
   ]
  },
  {
   "cell_type": "code",
   "execution_count": 3,
   "metadata": {
    "id": "UcWKwpa7JCSO"
   },
   "outputs": [],
   "source": [
    "mat17=v2017.groupby('skupina').sum()\n",
    "mat21=v2021.groupby('skupina').sum()"
   ]
  },
  {
   "cell_type": "markdown",
   "metadata": {
    "id": "puE6xIL3DSeb"
   },
   "source": [
    "výpočet procent pro strany z voličů kraje"
   ]
  },
  {
   "cell_type": "code",
   "execution_count": 4,
   "metadata": {
    "id": "TCK7x_0rKrqI"
   },
   "outputs": [],
   "source": [
    "fract17=(mat17/mat17.sum())\n",
    "fract21=(mat21/mat21.sum())"
   ]
  },
  {
   "cell_type": "code",
   "execution_count": 5,
   "metadata": {
    "id": "NMZ4qWzILXQ6"
   },
   "outputs": [],
   "source": [
    "hist=pd.DataFrame({'17':mat17.sum(axis=1),'21':mat21.sum(axis=1),'dif':mat21.sum(axis=1)-mat17.sum(axis=1)})"
   ]
  },
  {
   "cell_type": "code",
   "execution_count": 6,
   "metadata": {
    "colab": {
     "base_uri": "https://localhost:8080/",
     "height": 299
    },
    "id": "845ye9oSHRQX",
    "outputId": "13f4ad20-3382-4292-b4d5-a49b03d5e6cb"
   },
   "outputs": [
    {
     "data": {
      "text/plain": [
       "<matplotlib.legend.Legend at 0x152e35cbf10>"
      ]
     },
     "execution_count": 6,
     "metadata": {},
     "output_type": "execute_result"
    },
    {
     "data": {
      "image/png": "[encoded data removed]",
      "text/plain": [
       "<Figure size 432x288 with 1 Axes>"
      ]
     },
     "metadata": {
      "needs_background": "light"
     },
     "output_type": "display_data"
    }
   ],
   "source": [
    "import matplotlib.pyplot as plt\n",
    "plt.bar(hist.index,hist['17'],label='17')\n",
    "plt.bar(hist.index,hist['21'],label='21',width=0.4)\n",
    "plt.title('Srovnání počtu hlasů')\n",
    "plt.legend()"
   ]
  },
  {
   "cell_type": "markdown",
   "metadata": {
    "id": "Gd5txBFTttjV"
   },
   "source": [
    "### a učíme model"
   ]
  },
  {
   "cell_type": "code",
   "execution_count": 7,
   "metadata": {
    "colab": {
     "base_uri": "https://localhost:8080/",
     "height": 337
    },
    "id": "5fMvE3Knul5X",
    "outputId": "e1a377e7-4722-4dea-cb06-0b2fed01d868"
   },
   "outputs": [
    {
     "name": "stdout",
     "output_type": "stream",
     "text": [
      "Running ['ANO' 'CSSD' 'KSCM' 'PIRSTAN' 'SPD' 'SPOLU' 'o'] x ['ANO' 'CSSD' 'KSCM' 'PIRSTAN' 'SPD' 'SPOLU' 'o'] EI\n",
      "r = 7 rows (demographic groups)\n",
      "c = 7 columns (candidates or voting outcomes)\n",
      "number of precincts = 14\n"
     ]
    },
    {
     "name": "stderr",
     "output_type": "stream",
     "text": [
      "C:\\Users\\marta\\AppData\\Local\\Programs\\Python\\Python310\\lib\\site-packages\\theano\\tensor\\elemwise.py:826: RuntimeWarning: invalid value encountered in true_divide\n",
      "  variables = ufunc(*ufunc_args, **ufunc_kwargs)\n",
      "C:\\Users\\marta\\AppData\\Local\\Programs\\Python\\Python310\\lib\\site-packages\\deprecat\\classic.py:215: FutureWarning: In v4.0, pm.sample will return an `arviz.InferenceData` object instead of a `MultiTrace` by default. You can pass return_inferencedata=True or return_inferencedata=False to be safe and silence this warning.\n",
      "  return wrapped_(*args_, **kwargs_)\n",
      "Auto-assigning NUTS sampler...\n",
      "Initializing NUTS using jitter+adapt_diag...\n",
      "Multiprocess sampling (2 chains in 2 jobs)\n",
      "NUTS: [b, phi, kappa]\n"
     ]
    },
    {
     "data": {
      "text/html": [
       "\n",
       "<style>\n",
       "    /* Turns off some styling */\n",
       "    progress {\n",
       "        /* gets rid of default border in Firefox and Opera. */\n",
       "        border: none;\n",
       "        /* Needs to be in here for Safari polyfill so background images work as expected. */\n",
       "        background-size: auto;\n",
       "    }\n",
       "    progress:not([value]), progress:not([value])::-webkit-progress-bar {\n",
       "        background: repeating-linear-gradient(45deg, #7e7e7e, #7e7e7e 10px, #5c5c5c 10px, #5c5c5c 20px);\n",
       "    }\n",
       "    .progress-bar-interrupted, .progress-bar-interrupted::-webkit-progress-bar {\n",
       "        background: #F44336;\n",
       "    }\n",
       "</style>\n"
      ],
      "text/plain": [
       "<IPython.core.display.HTML object>"
      ]
     },
     "metadata": {},
     "output_type": "display_data"
    },
    {
     "data": {
      "text/html": [
       "\n",
       "    <div>\n",
       "      <progress value='425' class='' max='5000' style='width:300px; height:20px; vertical-align: middle;'></progress>\n",
       "      8.50% [425/5000 2:48:27&lt;30:13:26 Sampling 2 chains, 0 divergences]\n",
       "    </div>\n",
       "    "
      ],
      "text/plain": [
       "<IPython.core.display.HTML object>"
      ]
     },
     "metadata": {},
     "output_type": "display_data"
    },
    {
     "ename": "ValueError",
     "evalue": "Not enough samples to build a trace.",
     "output_type": "error",
     "traceback": [
      "\u001b[1;31m---------------------------------------------------------------------------\u001b[0m",
      "\u001b[1;31mKeyboardInterrupt\u001b[0m                         Traceback (most recent call last)",
      "File \u001b[1;32m~\\AppData\\Local\\Programs\\Python\\Python310\\lib\\site-packages\\pymc3\\sampling.py:1496\u001b[0m, in \u001b[0;36m_mp_sample\u001b[1;34m(draws, tune, step, chains, cores, chain, random_seed, start, progressbar, trace, model, callback, discard_tuned_samples, mp_ctx, pickle_backend, **kwargs)\u001b[0m\n\u001b[0;32m   1495\u001b[0m \u001b[38;5;28;01mwith\u001b[39;00m sampler:\n\u001b[1;32m-> 1496\u001b[0m     \u001b[38;5;28;01mfor\u001b[39;00m draw \u001b[38;5;129;01min\u001b[39;00m sampler:\n\u001b[0;32m   1497\u001b[0m         trace \u001b[38;5;241m=\u001b[39m traces[draw\u001b[38;5;241m.\u001b[39mchain \u001b[38;5;241m-\u001b[39m chain]\n",
      "File \u001b[1;32m~\\AppData\\Local\\Programs\\Python\\Python310\\lib\\site-packages\\pymc3\\parallel_sampling.py:479\u001b[0m, in \u001b[0;36mParallelSampler.__iter__\u001b[1;34m(self)\u001b[0m\n\u001b[0;32m    478\u001b[0m \u001b[38;5;28;01mwhile\u001b[39;00m \u001b[38;5;28mself\u001b[39m\u001b[38;5;241m.\u001b[39m_active:\n\u001b[1;32m--> 479\u001b[0m     draw \u001b[38;5;241m=\u001b[39m \u001b[43mProcessAdapter\u001b[49m\u001b[38;5;241;43m.\u001b[39;49m\u001b[43mrecv_draw\u001b[49m\u001b[43m(\u001b[49m\u001b[38;5;28;43mself\u001b[39;49m\u001b[38;5;241;43m.\u001b[39;49m\u001b[43m_active\u001b[49m\u001b[43m)\u001b[49m\n\u001b[0;32m    480\u001b[0m     proc, is_last, draw, tuning, stats, warns \u001b[38;5;241m=\u001b[39m draw\n",
      "File \u001b[1;32m~\\AppData\\Local\\Programs\\Python\\Python310\\lib\\site-packages\\pymc3\\parallel_sampling.py:346\u001b[0m, in \u001b[0;36mProcessAdapter.recv_draw\u001b[1;34m(processes, timeout)\u001b[0m\n\u001b[0;32m    345\u001b[0m pipes \u001b[38;5;241m=\u001b[39m [proc\u001b[38;5;241m.\u001b[39m_msg_pipe \u001b[38;5;28;01mfor\u001b[39;00m proc \u001b[38;5;129;01min\u001b[39;00m processes]\n\u001b[1;32m--> 346\u001b[0m ready \u001b[38;5;241m=\u001b[39m \u001b[43mmultiprocessing\u001b[49m\u001b[38;5;241;43m.\u001b[39;49m\u001b[43mconnection\u001b[49m\u001b[38;5;241;43m.\u001b[39;49m\u001b[43mwait\u001b[49m\u001b[43m(\u001b[49m\u001b[43mpipes\u001b[49m\u001b[43m)\u001b[49m\n\u001b[0;32m    347\u001b[0m \u001b[38;5;28;01mif\u001b[39;00m \u001b[38;5;129;01mnot\u001b[39;00m ready:\n",
      "File \u001b[1;32m~\\AppData\\Local\\Programs\\Python\\Python310\\lib\\multiprocessing\\connection.py:884\u001b[0m, in \u001b[0;36mwait\u001b[1;34m(object_list, timeout)\u001b[0m\n\u001b[0;32m    882\u001b[0m                 timeout \u001b[38;5;241m=\u001b[39m \u001b[38;5;241m0\u001b[39m\n\u001b[1;32m--> 884\u001b[0m     ready_handles \u001b[38;5;241m=\u001b[39m \u001b[43m_exhaustive_wait\u001b[49m\u001b[43m(\u001b[49m\u001b[43mwaithandle_to_obj\u001b[49m\u001b[38;5;241;43m.\u001b[39;49m\u001b[43mkeys\u001b[49m\u001b[43m(\u001b[49m\u001b[43m)\u001b[49m\u001b[43m,\u001b[49m\u001b[43m \u001b[49m\u001b[43mtimeout\u001b[49m\u001b[43m)\u001b[49m\n\u001b[0;32m    885\u001b[0m \u001b[38;5;28;01mfinally\u001b[39;00m:\n\u001b[0;32m    886\u001b[0m     \u001b[38;5;66;03m# request that overlapped reads stop\u001b[39;00m\n",
      "File \u001b[1;32m~\\AppData\\Local\\Programs\\Python\\Python310\\lib\\multiprocessing\\connection.py:816\u001b[0m, in \u001b[0;36m_exhaustive_wait\u001b[1;34m(handles, timeout)\u001b[0m\n\u001b[0;32m    815\u001b[0m \u001b[38;5;28;01mwhile\u001b[39;00m L:\n\u001b[1;32m--> 816\u001b[0m     res \u001b[38;5;241m=\u001b[39m \u001b[43m_winapi\u001b[49m\u001b[38;5;241;43m.\u001b[39;49m\u001b[43mWaitForMultipleObjects\u001b[49m\u001b[43m(\u001b[49m\u001b[43mL\u001b[49m\u001b[43m,\u001b[49m\u001b[43m \u001b[49m\u001b[38;5;28;43;01mFalse\u001b[39;49;00m\u001b[43m,\u001b[49m\u001b[43m \u001b[49m\u001b[43mtimeout\u001b[49m\u001b[43m)\u001b[49m\n\u001b[0;32m    817\u001b[0m     \u001b[38;5;28;01mif\u001b[39;00m res \u001b[38;5;241m==\u001b[39m WAIT_TIMEOUT:\n",
      "\u001b[1;31mKeyboardInterrupt\u001b[0m: ",
      "\nDuring handling of the above exception, another exception occurred:\n",
      "\u001b[1;31mValueError\u001b[0m                                Traceback (most recent call last)",
      "Input \u001b[1;32mIn [7]\u001b[0m, in \u001b[0;36m<cell line: 7>\u001b[1;34m()\u001b[0m\n\u001b[0;32m      4\u001b[0m ei_rbyc \u001b[38;5;241m=\u001b[39m RowByColumnEI(model_name\u001b[38;5;241m=\u001b[39m\u001b[38;5;124m'\u001b[39m\u001b[38;5;124mmultinomial-dirichlet-modified\u001b[39m\u001b[38;5;124m'\u001b[39m, pareto_shape\u001b[38;5;241m=\u001b[39m\u001b[38;5;241m100\u001b[39m, pareto_scale\u001b[38;5;241m=\u001b[39m\u001b[38;5;241m100\u001b[39m)\u001b[38;5;66;03m#,chains=1, draws, tune =number_of_iterations\u001b[39;00m\n\u001b[0;32m      6\u001b[0m \u001b[38;5;66;03m# Fit the model\u001b[39;00m\n\u001b[1;32m----> 7\u001b[0m \u001b[43mei_rbyc\u001b[49m\u001b[38;5;241;43m.\u001b[39;49m\u001b[43mfit\u001b[49m\u001b[43m(\u001b[49m\u001b[43mnp\u001b[49m\u001b[38;5;241;43m.\u001b[39;49m\u001b[43marray\u001b[49m\u001b[43m(\u001b[49m\u001b[43mfract17\u001b[49m\u001b[43m)\u001b[49m\u001b[43m,\u001b[49m\u001b[43m \u001b[49m\n\u001b[0;32m      8\u001b[0m \u001b[43m       \u001b[49m\u001b[43mnp\u001b[49m\u001b[38;5;241;43m.\u001b[39;49m\u001b[43marray\u001b[49m\u001b[43m(\u001b[49m\u001b[43mfract21\u001b[49m\u001b[43m)\u001b[49m\u001b[43m,\u001b[49m\u001b[43m \u001b[49m\n\u001b[0;32m      9\u001b[0m \u001b[43m       \u001b[49m\u001b[43mmat21\u001b[49m\u001b[38;5;241;43m.\u001b[39;49m\u001b[43msum\u001b[49m\u001b[43m(\u001b[49m\u001b[43m)\u001b[49m\u001b[38;5;241;43m.\u001b[39;49m\u001b[43mvalues\u001b[49m\u001b[43m,\u001b[49m\u001b[43m \u001b[49m\n\u001b[0;32m     10\u001b[0m \u001b[43m       \u001b[49m\u001b[43mdemographic_group_names\u001b[49m\u001b[38;5;241;43m=\u001b[39;49m\u001b[43mmat21\u001b[49m\u001b[38;5;241;43m.\u001b[39;49m\u001b[43mindex\u001b[49m\u001b[38;5;241;43m.\u001b[39;49m\u001b[43mvalues\u001b[49m\u001b[43m,\u001b[49m\u001b[43m \u001b[49m\n\u001b[0;32m     11\u001b[0m \u001b[43m       \u001b[49m\u001b[43mcandidate_names\u001b[49m\u001b[38;5;241;43m=\u001b[39;49m\u001b[43mmat17\u001b[49m\u001b[38;5;241;43m.\u001b[39;49m\u001b[43mindex\u001b[49m\u001b[38;5;241;43m.\u001b[39;49m\u001b[43mvalues\u001b[49m\u001b[43m,\u001b[49m\u001b[43m \u001b[49m\n\u001b[0;32m     12\u001b[0m \u001b[43m       \u001b[49m\u001b[43mprecinct_names\u001b[49m\u001b[38;5;241;43m=\u001b[39;49m\u001b[43mnazvy\u001b[49m\u001b[43m[\u001b[49m\u001b[38;5;124;43m'\u001b[39;49m\u001b[38;5;124;43mnazev_polozky\u001b[39;49m\u001b[38;5;124;43m'\u001b[39;49m\u001b[43m]\u001b[49m\u001b[38;5;241;43m.\u001b[39;49m\u001b[43mvalues\u001b[49m\u001b[43m,\u001b[49m\u001b[43m \u001b[49m\n\u001b[0;32m     13\u001b[0m \u001b[43m)\u001b[49m\n",
      "File \u001b[1;32m~\\AppData\\Local\\Programs\\Python\\Python310\\lib\\site-packages\\pyei\\r_by_c.py:188\u001b[0m, in \u001b[0;36mRowByColumnEI.fit\u001b[1;34m(self, group_fractions, votes_fractions, precinct_pops, demographic_group_names, candidate_names, target_accept, tune, draw_samples, precinct_names, **other_sampling_args)\u001b[0m\n\u001b[0;32m    186\u001b[0m \u001b[38;5;28;01mif\u001b[39;00m draw_samples:\n\u001b[0;32m    187\u001b[0m     \u001b[38;5;28;01mwith\u001b[39;00m \u001b[38;5;28mself\u001b[39m\u001b[38;5;241m.\u001b[39msim_model:  \u001b[38;5;66;03m# pylint: disable=not-context-manager\u001b[39;00m\n\u001b[1;32m--> 188\u001b[0m         \u001b[38;5;28mself\u001b[39m\u001b[38;5;241m.\u001b[39msim_trace \u001b[38;5;241m=\u001b[39m pm\u001b[38;5;241m.\u001b[39msample(\n\u001b[0;32m    189\u001b[0m             target_accept\u001b[38;5;241m=\u001b[39mtarget_accept, tune\u001b[38;5;241m=\u001b[39mtune, \u001b[38;5;241m*\u001b[39m\u001b[38;5;241m*\u001b[39mother_sampling_args\n\u001b[0;32m    190\u001b[0m         )\n\u001b[0;32m    192\u001b[0m     \u001b[38;5;28mself\u001b[39m\u001b[38;5;241m.\u001b[39mcalculate_summary()\n",
      "File \u001b[1;32m~\\AppData\\Local\\Programs\\Python\\Python310\\lib\\site-packages\\deprecat\\classic.py:215\u001b[0m, in \u001b[0;36mdeprecat.<locals>.wrapper_function\u001b[1;34m(wrapped_, instance_, args_, kwargs_)\u001b[0m\n\u001b[0;32m    213\u001b[0m         \u001b[38;5;28;01melse\u001b[39;00m:\n\u001b[0;32m    214\u001b[0m             warnings\u001b[38;5;241m.\u001b[39mwarn(message, category\u001b[38;5;241m=\u001b[39mcategory, stacklevel\u001b[38;5;241m=\u001b[39m_routine_stacklevel)\n\u001b[1;32m--> 215\u001b[0m \u001b[38;5;28;01mreturn\u001b[39;00m wrapped_(\u001b[38;5;241m*\u001b[39margs_, \u001b[38;5;241m*\u001b[39m\u001b[38;5;241m*\u001b[39mkwargs_)\n",
      "File \u001b[1;32m~\\AppData\\Local\\Programs\\Python\\Python310\\lib\\site-packages\\pymc3\\sampling.py:575\u001b[0m, in \u001b[0;36msample\u001b[1;34m(draws, step, init, n_init, initvals, trace, chain_idx, chains, cores, tune, progressbar, model, random_seed, discard_tuned_samples, compute_convergence_checks, callback, jitter_max_retries, start, return_inferencedata, idata_kwargs, mp_ctx, pickle_backend, **kwargs)\u001b[0m\n\u001b[0;32m    573\u001b[0m _print_step_hierarchy(step)\n\u001b[0;32m    574\u001b[0m \u001b[38;5;28;01mtry\u001b[39;00m:\n\u001b[1;32m--> 575\u001b[0m     trace \u001b[38;5;241m=\u001b[39m _mp_sample(\u001b[38;5;241m*\u001b[39m\u001b[38;5;241m*\u001b[39msample_args, \u001b[38;5;241m*\u001b[39m\u001b[38;5;241m*\u001b[39mparallel_args)\n\u001b[0;32m    576\u001b[0m \u001b[38;5;28;01mexcept\u001b[39;00m pickle\u001b[38;5;241m.\u001b[39mPickleError:\n\u001b[0;32m    577\u001b[0m     _log\u001b[38;5;241m.\u001b[39mwarning(\u001b[38;5;124m\"\u001b[39m\u001b[38;5;124mCould not pickle model, sampling singlethreaded.\u001b[39m\u001b[38;5;124m\"\u001b[39m)\n",
      "File \u001b[1;32m~\\AppData\\Local\\Programs\\Python\\Python310\\lib\\site-packages\\pymc3\\sampling.py:1522\u001b[0m, in \u001b[0;36m_mp_sample\u001b[1;34m(draws, tune, step, chains, cores, chain, random_seed, start, progressbar, trace, model, callback, discard_tuned_samples, mp_ctx, pickle_backend, **kwargs)\u001b[0m\n\u001b[0;32m   1520\u001b[0m \u001b[38;5;28;01mexcept\u001b[39;00m \u001b[38;5;167;01mKeyboardInterrupt\u001b[39;00m:\n\u001b[0;32m   1521\u001b[0m     \u001b[38;5;28;01mif\u001b[39;00m discard_tuned_samples:\n\u001b[1;32m-> 1522\u001b[0m         traces, length \u001b[38;5;241m=\u001b[39m \u001b[43m_choose_chains\u001b[49m\u001b[43m(\u001b[49m\u001b[43mtraces\u001b[49m\u001b[43m,\u001b[49m\u001b[43m \u001b[49m\u001b[43mtune\u001b[49m\u001b[43m)\u001b[49m\n\u001b[0;32m   1523\u001b[0m     \u001b[38;5;28;01melse\u001b[39;00m:\n\u001b[0;32m   1524\u001b[0m         traces, length \u001b[38;5;241m=\u001b[39m _choose_chains(traces, \u001b[38;5;241m0\u001b[39m)\n",
      "File \u001b[1;32m~\\AppData\\Local\\Programs\\Python\\Python310\\lib\\site-packages\\pymc3\\sampling.py:1548\u001b[0m, in \u001b[0;36m_choose_chains\u001b[1;34m(traces, tune)\u001b[0m\n\u001b[0;32m   1546\u001b[0m lengths \u001b[38;5;241m=\u001b[39m [\u001b[38;5;28mmax\u001b[39m(\u001b[38;5;241m0\u001b[39m, \u001b[38;5;28mlen\u001b[39m(trace) \u001b[38;5;241m-\u001b[39m tune) \u001b[38;5;28;01mfor\u001b[39;00m trace \u001b[38;5;129;01min\u001b[39;00m traces]\n\u001b[0;32m   1547\u001b[0m \u001b[38;5;28;01mif\u001b[39;00m \u001b[38;5;129;01mnot\u001b[39;00m \u001b[38;5;28msum\u001b[39m(lengths):\n\u001b[1;32m-> 1548\u001b[0m     \u001b[38;5;28;01mraise\u001b[39;00m \u001b[38;5;167;01mValueError\u001b[39;00m(\u001b[38;5;124m\"\u001b[39m\u001b[38;5;124mNot enough samples to build a trace.\u001b[39m\u001b[38;5;124m\"\u001b[39m)\n\u001b[0;32m   1550\u001b[0m idxs \u001b[38;5;241m=\u001b[39m np\u001b[38;5;241m.\u001b[39margsort(lengths)\n\u001b[0;32m   1551\u001b[0m l_sort \u001b[38;5;241m=\u001b[39m np\u001b[38;5;241m.\u001b[39marray(lengths)[idxs]\n",
      "\u001b[1;31mValueError\u001b[0m: Not enough samples to build a trace."
     ]
    }
   ],
   "source": [
    "# Fitting a first r x c model\n",
    "\n",
    "# Create a RowByColumnEI object\n",
    "ei_rbyc = RowByColumnEI(model_name='multinomial-dirichlet-modified', pareto_shape=100, pareto_scale=100)#,chains=1, draws, tune =number_of_iterations\n",
    "\n",
    "# Fit the model\n",
    "ei_rbyc.fit(np.array(fract17), \n",
    "       np.array(fract21), \n",
    "       mat21.sum().values, \n",
    "       demographic_group_names=mat21.index.values, \n",
    "       candidate_names=mat17.index.values, \n",
    "       precinct_names=nazvy['nazev_polozky'].values, \n",
    ")\n",
    "\n",
    "# Generate a simple report to summarize the results\n",
    "#print(ei_rbyc.summary())"
   ]
  },
  {
   "cell_type": "markdown",
   "metadata": {
    "id": "qUWwBR1UDh98"
   },
   "source": [
    "výsledky uložíme do proměnné"
   ]
  },
  {
   "cell_type": "code",
   "execution_count": null,
   "metadata": {
    "colab": {
     "base_uri": "https://localhost:8080/"
    },
    "id": "IprVV0_vgUE0",
    "outputId": "693ce3da-7ded-4e10-a8eb-dd999fb8f00b"
   },
   "outputs": [],
   "source": [
    "VERBOSE=True\n",
    "results=ei_rbyc.posterior_mean_voting_prefs\n",
    "if VERBOSE:  print(np.round(results,2))"
   ]
  },
  {
   "cell_type": "markdown",
   "metadata": {
    "id": "_yOH8a30Rd1U"
   },
   "source": [
    "[[0.74437741 0.02060759 0.01204607 0.04626478 0.04517217 0.04944208\n",
    "  0.08208989]\n",
    " [0.18523556 0.27674809 0.08777707 0.03377722 0.04196027 0.09804179\n",
    "  0.27645999]\n",
    " [0.17273664 0.03733284 0.17669285 0.05679345 0.16069363 0.11481611\n",
    "  0.28093448]\n",
    " [0.02651937 0.02921823 0.01675794 0.69715252 0.02706238 0.13953013\n",
    "  0.06375943]\n",
    " [0.11289595 0.0355412  0.03966635 0.04021862 0.51987973 0.05541838\n",
    "  0.19637977]\n",
    " [0.01878484 0.02867107 0.00728543 0.03415728 0.01343131 0.87056538\n",
    "  0.0271047 ]\n",
    " [0.04714774 0.04107342 0.06103877 0.20165539 0.06254738 0.38933517\n",
    "  0.19720213]]"
   ]
  },
  {
   "cell_type": "markdown",
   "metadata": {
    "id": "8RTezUZJEnAW"
   },
   "source": [
    "Příprava grafu\n",
    "\n",
    "počet různých volebních skupin"
   ]
  },
  {
   "cell_type": "code",
   "execution_count": null,
   "metadata": {
    "id": "5DSW8KuThPUc"
   },
   "outputs": [],
   "source": [
    "n_types=mat21.shape[0]"
   ]
  },
  {
   "cell_type": "markdown",
   "metadata": {
    "id": "B-VUMULDEu8s"
   },
   "source": [
    "Hrany vedou ze source do target; sources začínají všemi 'odchody' z jedné skupiny"
   ]
  },
  {
   "cell_type": "code",
   "execution_count": null,
   "metadata": {
    "id": "Hkj5H3tnE6Z4"
   },
   "outputs": [],
   "source": [
    "source0=[[i]*n_types for i in range(n_types)]\n",
    "source=source=np.array(source0).ravel()"
   ]
  },
  {
   "cell_type": "markdown",
   "metadata": {
    "id": "c_7lL2U4E86O"
   },
   "source": [
    "target se střídají konce hran, navíc cílové uzly jsou zadní, tj. od indexu n_types."
   ]
  },
  {
   "cell_type": "code",
   "execution_count": null,
   "metadata": {
    "id": "HulxLOB7E_3b"
   },
   "outputs": [],
   "source": [
    "target=list(range(n_types,n_types*2))*n_types"
   ]
  },
  {
   "cell_type": "markdown",
   "metadata": {
    "id": "m7l38Vn0FMB-"
   },
   "source": [
    "## A jdeme na graf\n",
    "\n",
    "jen co připravíme barvy a načteme knihovnu"
   ]
  },
  {
   "cell_type": "code",
   "execution_count": null,
   "metadata": {
    "id": "8aB1wRU0V_uR"
   },
   "outputs": [],
   "source": [
    "import plotly.express as px\n",
    "my_colors=px.colors.qualitative.Light24\n",
    "import plotly.graph_objects as go"
   ]
  },
  {
   "cell_type": "code",
   "execution_count": null,
   "metadata": {
    "colab": {
     "base_uri": "https://localhost:8080/",
     "height": 542
    },
    "id": "pFPH2XD7FnEF",
    "outputId": "8a1c99bd-41a1-44c5-a0b1-ddb19ed3f074"
   },
   "outputs": [],
   "source": [
    "fig = go.Figure(data=[go.Sankey(\n",
    "    node = dict(\n",
    "      pad = 5,\n",
    "      thickness = 30,\n",
    "      line = dict(color = \"black\", width = 0.5),\n",
    "      label = list(mat17.index.values)+list(mat21.index.values),\n",
    "      color = my_colors[:n_types]+my_colors[:n_types],\n",
    "    ),\n",
    "    link = dict(\n",
    "      source = source, \n",
    "      target = target,\n",
    "      value = results.ravel(),\n",
    "      color = np.array([[my_colors[i]]*n_types for i in range(n_types)]).ravel(),\n",
    "  ))])\n",
    "\n",
    "fig.update_layout(title_text=\"Odhadovaný přesun voličů 2017 - 2021\", font_size=10)\n",
    "fig.show()"
   ]
  },
  {
   "cell_type": "markdown",
   "metadata": {
    "id": "Xa87UXTLFV3L"
   },
   "source": [
    "totéž, jen jsou stejné barvy příchozí hrany."
   ]
  },
  {
   "cell_type": "code",
   "execution_count": null,
   "metadata": {
    "colab": {
     "base_uri": "https://localhost:8080/",
     "height": 542
    },
    "id": "UsTV-V9Yg4kG",
    "outputId": "d070db4b-8290-492d-b2f0-312f76926250"
   },
   "outputs": [],
   "source": [
    "fig = go.Figure(data=[go.Sankey(\n",
    "    node = dict(\n",
    "      pad = 5,\n",
    "      thickness = 30,\n",
    "      line = dict(color = \"black\", width = 0.5),\n",
    "      label = list(mat17.index.values)+list(mat21.index.values),\n",
    "      color = my_colors[:n_types]+my_colors[:n_types],\n",
    "    ),\n",
    "    link = dict(\n",
    "      source = source, \n",
    "      target = target,\n",
    "      value = results.ravel(),\n",
    "      color = my_colors[:n_types]*n_types,\n",
    "  ))])\n",
    "\n",
    "fig.update_layout(title_text=\"Odhadovaný přesun voličů 2017 - 2021\", font_size=10)\n",
    "fig.show()"
   ]
  }
 ],
 "metadata": {
  "colab": {
   "collapsed_sections": [],
   "name": "EcologicalInference.ipynb",
   "provenance": []
  },
  "hide_input": false,
  "kernelspec": {
   "display_name": "Python 3 (ipykernel)",
   "language": "python",
   "name": "python3"
  },
  "language_info": {
   "codemirror_mode": {
    "name": "ipython",
    "version": 3
   },
   "file_extension": ".py",
   "mimetype": "text/x-python",
   "name": "python",
   "nbconvert_exporter": "python",
   "pygments_lexer": "ipython3",
   "version": "3.10.5"
  }
 },
 "nbformat": 4,
 "nbformat_minor": 1
}
