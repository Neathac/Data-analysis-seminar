{
 "cells": [
  {
   "cell_type": "markdown",
   "metadata": {},
   "source": [
    "# Seminar on Machine Learning\n",
    "\n",
    "\n",
    "## Literature:\n",
    "https://jakevdp.github.io/PythonDataScienceHandbook/index.html\n",
    "\n",
    "## Students file space - and my notebooks and data:\n",
    "https://su.mff.cuni.cz/view/browse/home/martav/seminardm\n",
    "\n",
    "## Expected Output for Credits:\n",
    "\n",
    "You should submit and present a semanar work that presents your ability to use machine learning techniques to your own dataset. You select or get your own topic. The work should present at least 12 ideas (graphs, summaries, models, ...), should be encapsulated into text explanations. At least 3 ideas should be not just a 'copy' of the presentation notebooks.\n",
    "\n",
    "\n",
    "## Form:\n",
    "Lectures every second weeks, seminars every week.\n",
    "\n",
    "## Oracle install:\n",
    "\n",
    "### In the shell, run:\n",
    "\n",
    "python -m pip install cx_Oracle --upgrade\n",
    "\n",
    "### Download and unzip \n",
    "\n",
    "the Basic Package https://www.oracle.com/database/technologies/instant-client/winx64-64-downloads.html\n",
    "\n",
    "## Add the path to the command:\n",
    "\n",
    "cx_Oracle.init_oracle_client(config_dir=\"/home/your_username/oracle/your_config_dir\")"
   ]
  },
  {
   "cell_type": "markdown",
   "metadata": {},
   "source": [
    "# Basic Libraries"
   ]
  },
  {
   "cell_type": "code",
   "execution_count": 1,
   "metadata": {
    "scrolled": true
   },
   "outputs": [],
   "source": [
    "import numpy as np\n",
    "import pandas as pd\n",
    "import cx_Oracle\n",
    "import json\n",
    "import os\n",
    "\n",
    "#from sqlalchemy import create_engine"
   ]
  },
  {
   "cell_type": "code",
   "execution_count": 2,
   "metadata": {},
   "outputs": [],
   "source": [
    "cx_Oracle.init_oracle_client(config_dir=\"C:\\\\Users\\\\marta\\\\Desktop\\\\Plocha\\\\programy\\\\instantclient_21_8\")\n",
    "\n",
    "import warnings\n",
    "warnings.simplefilter(\"ignore\")"
   ]
  },
  {
   "cell_type": "markdown",
   "metadata": {},
   "source": [
    "# Data frame - our basic data structure\n",
    "\n",
    "we use the DataFrame format from the pandas library"
   ]
  },
  {
   "cell_type": "markdown",
   "metadata": {},
   "source": [
    "## Read a *.csv  file\n",
    "\n",
    "demo of the *.csv read with the printout of the first record .head(1)\n",
    "\n",
    "(covid data in Czech)"
   ]
  },
  {
   "cell_type": "code",
   "execution_count": 3,
   "metadata": {},
   "outputs": [
    {
     "data": {
      "text/html": [
       "<div>\n",
       "<style scoped>\n",
       "    .dataframe tbody tr th:only-of-type {\n",
       "        vertical-align: middle;\n",
       "    }\n",
       "\n",
       "    .dataframe tbody tr th {\n",
       "        vertical-align: top;\n",
       "    }\n",
       "\n",
       "    .dataframe thead th {\n",
       "        text-align: right;\n",
       "    }\n",
       "</style>\n",
       "<table border=\"1\" class=\"dataframe\">\n",
       "  <thead>\n",
       "    <tr style=\"text-align: right;\">\n",
       "      <th></th>\n",
       "      <th>datum</th>\n",
       "      <th>kumulativni_pocet_nakazenych</th>\n",
       "      <th>kumulativni_pocet_vylecenych</th>\n",
       "      <th>kumulativni_pocet_umrti</th>\n",
       "      <th>kumulativni_pocet_testu</th>\n",
       "      <th>kumulativni_pocet_ag_testu</th>\n",
       "    </tr>\n",
       "  </thead>\n",
       "  <tbody>\n",
       "    <tr>\n",
       "      <th>0</th>\n",
       "      <td>2020-01-27</td>\n",
       "      <td>0</td>\n",
       "      <td>0</td>\n",
       "      <td>0</td>\n",
       "      <td>20</td>\n",
       "      <td>0</td>\n",
       "    </tr>\n",
       "  </tbody>\n",
       "</table>\n",
       "</div>"
      ],
      "text/plain": [
       "        datum  kumulativni_pocet_nakazenych  kumulativni_pocet_vylecenych  \\\n",
       "0  2020-01-27                             0                             0   \n",
       "\n",
       "   kumulativni_pocet_umrti  kumulativni_pocet_testu  \\\n",
       "0                        0                       20   \n",
       "\n",
       "   kumulativni_pocet_ag_testu  \n",
       "0                           0  "
      ]
     },
     "execution_count": 3,
     "metadata": {},
     "output_type": "execute_result"
    }
   ],
   "source": [
    "covid=pd.read_csv('data/covid.csv')\n",
    "covid.head(1)"
   ]
  },
  {
   "cell_type": "markdown",
   "metadata": {},
   "source": [
    "## dataFrame from scratch\n",
    "\n",
    "you may define a dataframe directly from a dict structure\n",
    "\n",
    "&emsp;Series\n",
    "\n",
    "&emsp;&emsp;'column_name':[column_data]"
   ]
  },
  {
   "cell_type": "code",
   "execution_count": 4,
   "metadata": {},
   "outputs": [
    {
     "data": {
      "text/html": [
       "<div>\n",
       "<style scoped>\n",
       "    .dataframe tbody tr th:only-of-type {\n",
       "        vertical-align: middle;\n",
       "    }\n",
       "\n",
       "    .dataframe tbody tr th {\n",
       "        vertical-align: top;\n",
       "    }\n",
       "\n",
       "    .dataframe thead th {\n",
       "        text-align: right;\n",
       "    }\n",
       "</style>\n",
       "<table border=\"1\" class=\"dataframe\">\n",
       "  <thead>\n",
       "    <tr style=\"text-align: right;\">\n",
       "      <th></th>\n",
       "      <th>age</th>\n",
       "      <th>male</th>\n",
       "      <th>female</th>\n",
       "    </tr>\n",
       "  </thead>\n",
       "  <tbody>\n",
       "    <tr>\n",
       "      <th>0</th>\n",
       "      <td>0-14</td>\n",
       "      <td>2299</td>\n",
       "      <td>2159</td>\n",
       "    </tr>\n",
       "  </tbody>\n",
       "</table>\n",
       "</div>"
      ],
      "text/plain": [
       "    age  male  female\n",
       "0  0-14  2299    2159"
      ]
     },
     "execution_count": 4,
     "metadata": {},
     "output_type": "execute_result"
    }
   ],
   "source": [
    "my_data=pd.DataFrame({\n",
    "  'age':['0-14','15-19','20-24','25-29','30-34','35-39','40-49','50-59','60-69','70-79','80 a více'],\n",
    "  'male':[2299,784,854,927,1197,1329,2443,3003,4289,3322,1747],\n",
    "  'female':[2159,814,950,1153,1494,1505,2627,3571,5837,5413,4094] \n",
    "})\n",
    "my_data.head(1)"
   ]
  },
  {
   "cell_type": "markdown",
   "metadata": {},
   "source": [
    "## Data from *.json"
   ]
  },
  {
   "cell_type": "code",
   "execution_count": 5,
   "metadata": {},
   "outputs": [
    {
     "data": {
      "text/html": [
       "<div>\n",
       "<style scoped>\n",
       "    .dataframe tbody tr th:only-of-type {\n",
       "        vertical-align: middle;\n",
       "    }\n",
       "\n",
       "    .dataframe tbody tr th {\n",
       "        vertical-align: top;\n",
       "    }\n",
       "\n",
       "    .dataframe thead th {\n",
       "        text-align: right;\n",
       "    }\n",
       "</style>\n",
       "<table border=\"1\" class=\"dataframe\">\n",
       "  <thead>\n",
       "    <tr style=\"text-align: right;\">\n",
       "      <th></th>\n",
       "      <th>TITLE</th>\n",
       "      <th>GENRE</th>\n",
       "      <th>TT</th>\n",
       "      <th>CNT0</th>\n",
       "      <th>CNT</th>\n",
       "      <th>AVG</th>\n",
       "      <th>BAYESAVG</th>\n",
       "    </tr>\n",
       "  </thead>\n",
       "  <tbody>\n",
       "    <tr>\n",
       "      <th>1</th>\n",
       "      <td>Toy Story (1995)</td>\n",
       "      <td>Adventure|Animation|Children|Comedy|Fantasy\\r</td>\n",
       "      <td>tt0114709</td>\n",
       "      <td>49695</td>\n",
       "      <td>45868</td>\n",
       "      <td>4</td>\n",
       "      <td>4</td>\n",
       "    </tr>\n",
       "  </tbody>\n",
       "</table>\n",
       "</div>"
      ],
      "text/plain": [
       "              TITLE                                          GENRE         TT  \\\n",
       "1  Toy Story (1995)  Adventure|Animation|Children|Comedy|Fantasy\\r  tt0114709   \n",
       "\n",
       "    CNT0    CNT  AVG  BAYESAVG  \n",
       "1  49695  45868    4         4  "
      ]
     },
     "execution_count": 5,
     "metadata": {},
     "output_type": "execute_result"
    }
   ],
   "source": [
    "movies= pd.read_json('data/movies.json')\n",
    "movies.head(1)"
   ]
  },
  {
   "cell_type": "markdown",
   "metadata": {},
   "source": [
    "## Oracle connection\n",
    "SQL language on demand, the basics: \n",
    "\n",
    "SELECT a keyword  \n",
    "&emsp;     $*$ select all columns; a list of columns otherwise   \n",
    "FROM a keyword   \n",
    "&emsp;     MMOVIES table name\n",
    "&emsp;&emsp; #        we could end here. We can add restrictions:  \n",
    "    WHERE a keyword \n",
    "&emsp;     CNT>100 condition: column_name oprerator value  \n",
    "    ORDER BY ...  \n",
    "&emsp; \n",
    "\n",
    "Thanks to Michalovi Kopeckému for the data preparation and access."
   ]
  },
  {
   "cell_type": "code",
   "execution_count": 6,
   "metadata": {},
   "outputs": [
    {
     "data": {
      "text/html": [
       "<div>\n",
       "<style scoped>\n",
       "    .dataframe tbody tr th:only-of-type {\n",
       "        vertical-align: middle;\n",
       "    }\n",
       "\n",
       "    .dataframe tbody tr th {\n",
       "        vertical-align: top;\n",
       "    }\n",
       "\n",
       "    .dataframe thead th {\n",
       "        text-align: right;\n",
       "    }\n",
       "</style>\n",
       "<table border=\"1\" class=\"dataframe\">\n",
       "  <thead>\n",
       "    <tr style=\"text-align: right;\">\n",
       "      <th></th>\n",
       "      <th>TITLE</th>\n",
       "      <th>GENRE</th>\n",
       "      <th>TT</th>\n",
       "      <th>CNT0</th>\n",
       "      <th>CNT</th>\n",
       "      <th>AVG</th>\n",
       "      <th>BAYESAVG</th>\n",
       "    </tr>\n",
       "    <tr>\n",
       "      <th>MOVIEID</th>\n",
       "      <th></th>\n",
       "      <th></th>\n",
       "      <th></th>\n",
       "      <th></th>\n",
       "      <th></th>\n",
       "      <th></th>\n",
       "      <th></th>\n",
       "    </tr>\n",
       "  </thead>\n",
       "  <tbody>\n",
       "    <tr>\n",
       "      <th>1</th>\n",
       "      <td>Toy Story (1995)</td>\n",
       "      <td>Adventure|Animation|Children|Comedy|Fantasy\\r</td>\n",
       "      <td>tt0114709</td>\n",
       "      <td>49695</td>\n",
       "      <td>45868</td>\n",
       "      <td>4</td>\n",
       "      <td>4</td>\n",
       "    </tr>\n",
       "  </tbody>\n",
       "</table>\n",
       "</div>"
      ],
      "text/plain": [
       "                    TITLE                                          GENRE  \\\n",
       "MOVIEID                                                                    \n",
       "1        Toy Story (1995)  Adventure|Animation|Children|Comedy|Fantasy\\r   \n",
       "\n",
       "                TT   CNT0    CNT  AVG  BAYESAVG  \n",
       "MOVIEID                                          \n",
       "1        tt0114709  49695  45868    4         4  "
      ]
     },
     "execution_count": 6,
     "metadata": {},
     "output_type": "execute_result"
    }
   ],
   "source": [
    "try:\n",
    "    connection =cx_Oracle.connect(user='websem', password='websem108', dsn='tirpitz.ms.mff.cuni.cz:1511/jedenact.ms.mff.cuni.cz')\n",
    "    movies=pd.read_sql_query('''select * from MMOVIES \n",
    "                                order by MOVIEID\n",
    "                            ''', \n",
    "                             connection,index_col='MOVIEID')\n",
    "except:\n",
    "    movies= pd.read_json('data/movies.json')\n",
    "    print('Except')\n",
    "\n",
    "movies.head(1)"
   ]
  },
  {
   "cell_type": "code",
   "execution_count": 7,
   "metadata": {},
   "outputs": [],
   "source": [
    "connection =cx_Oracle.connect(user='websem', password='websem108', dsn='tirpitz.ms.mff.cuni.cz:1511/jedenact.ms.mff.cuni.cz')"
   ]
  },
  {
   "cell_type": "code",
   "execution_count": 8,
   "metadata": {},
   "outputs": [],
   "source": [
    "ratings=pd.read_sql_query('''select * from FRATINGS \n",
    "                               where MOVIEID<20\n",
    "                            ''', \n",
    "                             connection)"
   ]
  },
  {
   "cell_type": "code",
   "execution_count": 9,
   "metadata": {},
   "outputs": [
    {
     "data": {
      "text/plain": [
       "Index(['USERID', 'MOVIEID', 'RATING', 'TS', 'DT', 'TOP5', 'K', 'DTYY', 'DTMM',\n",
       "       'DTDW', 'DTHH', 'KTT', 'TRAIN', 'TEST', 'DIFF'],\n",
       "      dtype='object')"
      ]
     },
     "execution_count": 9,
     "metadata": {},
     "output_type": "execute_result"
    }
   ],
   "source": [
    "ratings.columns"
   ]
  },
  {
   "cell_type": "code",
   "execution_count": 10,
   "metadata": {},
   "outputs": [
    {
     "data": {
      "text/html": [
       "<div>\n",
       "<style scoped>\n",
       "    .dataframe tbody tr th:only-of-type {\n",
       "        vertical-align: middle;\n",
       "    }\n",
       "\n",
       "    .dataframe tbody tr th {\n",
       "        vertical-align: top;\n",
       "    }\n",
       "\n",
       "    .dataframe thead th {\n",
       "        text-align: right;\n",
       "    }\n",
       "</style>\n",
       "<table border=\"1\" class=\"dataframe\">\n",
       "  <thead>\n",
       "    <tr style=\"text-align: right;\">\n",
       "      <th></th>\n",
       "      <th>ACTORS</th>\n",
       "    </tr>\n",
       "  </thead>\n",
       "  <tbody>\n",
       "    <tr>\n",
       "      <th>0</th>\n",
       "      <td>None</td>\n",
       "    </tr>\n",
       "    <tr>\n",
       "      <th>1</th>\n",
       "      <td>None</td>\n",
       "    </tr>\n",
       "    <tr>\n",
       "      <th>2</th>\n",
       "      <td>Joseph Stacey, Gabi Herrett, John Grey</td>\n",
       "    </tr>\n",
       "    <tr>\n",
       "      <th>3</th>\n",
       "      <td>Chris Stuckmann, Fae Rie, Sam Liz, Trevor Lawr...</td>\n",
       "    </tr>\n",
       "    <tr>\n",
       "      <th>4</th>\n",
       "      <td>Madison Marie Steinacker</td>\n",
       "    </tr>\n",
       "    <tr>\n",
       "      <th>...</th>\n",
       "      <td>...</td>\n",
       "    </tr>\n",
       "    <tr>\n",
       "      <th>40740</th>\n",
       "      <td>Jonnie Hurn, Chloe Farnworth, Dan Burman, Lulu...</td>\n",
       "    </tr>\n",
       "    <tr>\n",
       "      <th>40741</th>\n",
       "      <td>Götz George, Uwe Ochsenknecht, Christiane Hörb...</td>\n",
       "    </tr>\n",
       "    <tr>\n",
       "      <th>40742</th>\n",
       "      <td>Merrill Gruver, Michael Edwards, Melissa Brown...</td>\n",
       "    </tr>\n",
       "    <tr>\n",
       "      <th>40743</th>\n",
       "      <td>Gabrielle Anwar, Michael Schoeffling, Cliff Ro...</td>\n",
       "    </tr>\n",
       "    <tr>\n",
       "      <th>40744</th>\n",
       "      <td>Serdar Orçin, Zeynep Tokus, Engin Günaydin, De...</td>\n",
       "    </tr>\n",
       "  </tbody>\n",
       "</table>\n",
       "<p>40745 rows × 1 columns</p>\n",
       "</div>"
      ],
      "text/plain": [
       "                                                  ACTORS\n",
       "0                                                   None\n",
       "1                                                   None\n",
       "2                 Joseph Stacey, Gabi Herrett, John Grey\n",
       "3      Chris Stuckmann, Fae Rie, Sam Liz, Trevor Lawr...\n",
       "4                               Madison Marie Steinacker\n",
       "...                                                  ...\n",
       "40740  Jonnie Hurn, Chloe Farnworth, Dan Burman, Lulu...\n",
       "40741  Götz George, Uwe Ochsenknecht, Christiane Hörb...\n",
       "40742  Merrill Gruver, Michael Edwards, Melissa Brown...\n",
       "40743  Gabrielle Anwar, Michael Schoeffling, Cliff Ro...\n",
       "40744  Serdar Orçin, Zeynep Tokus, Engin Günaydin, De...\n",
       "\n",
       "[40745 rows x 1 columns]"
      ]
     },
     "execution_count": 10,
     "metadata": {},
     "output_type": "execute_result"
    }
   ],
   "source": [
    "pd.read_sql_query('''select ACTORS from IMDB''', connection)"
   ]
  },
  {
   "cell_type": "markdown",
   "metadata": {},
   "source": [
    "## Select a column of a dataframe\n",
    "\n",
    "two alternatives"
   ]
  },
  {
   "cell_type": "code",
   "execution_count": 11,
   "metadata": {},
   "outputs": [
    {
     "data": {
      "text/plain": [
       "MOVIEID\n",
       "1         4\n",
       "2         3\n",
       "3         3\n",
       "4         3\n",
       "5         3\n",
       "         ..\n",
       "131254    4\n",
       "131256    4\n",
       "131258    0\n",
       "131260    0\n",
       "131262    0\n",
       "Name: AVG, Length: 27278, dtype: int64"
      ]
     },
     "execution_count": 11,
     "metadata": {},
     "output_type": "execute_result"
    }
   ],
   "source": [
    "movies.AVG #movies['AVG']"
   ]
  },
  {
   "cell_type": "markdown",
   "metadata": {},
   "source": [
    "# DataFrame basic info"
   ]
  },
  {
   "cell_type": "code",
   "execution_count": 12,
   "metadata": {
    "scrolled": true
   },
   "outputs": [
    {
     "name": "stdout",
     "output_type": "stream",
     "text": [
      "movies.shape is (27278, 7).\n",
      "Number of rows is 27278, columns 7.\n",
      "Column names are Index(['TITLE', 'GENRE', 'TT', 'CNT0', 'CNT', 'AVG', 'BAYESAVG'], dtype='object').\n",
      "... whithout type info ['TITLE', 'GENRE', 'TT', 'CNT0', 'CNT', 'AVG', 'BAYESAVG'].\n",
      "movies.describe() output:\n"
     ]
    },
    {
     "data": {
      "text/html": [
       "<div>\n",
       "<style scoped>\n",
       "    .dataframe tbody tr th:only-of-type {\n",
       "        vertical-align: middle;\n",
       "    }\n",
       "\n",
       "    .dataframe tbody tr th {\n",
       "        vertical-align: top;\n",
       "    }\n",
       "\n",
       "    .dataframe thead th {\n",
       "        text-align: right;\n",
       "    }\n",
       "</style>\n",
       "<table border=\"1\" class=\"dataframe\">\n",
       "  <thead>\n",
       "    <tr style=\"text-align: right;\">\n",
       "      <th></th>\n",
       "      <th>CNT0</th>\n",
       "      <th>CNT</th>\n",
       "      <th>AVG</th>\n",
       "      <th>BAYESAVG</th>\n",
       "    </tr>\n",
       "  </thead>\n",
       "  <tbody>\n",
       "    <tr>\n",
       "      <th>count</th>\n",
       "      <td>27278.000000</td>\n",
       "      <td>27278.000000</td>\n",
       "      <td>27278.000000</td>\n",
       "      <td>27278.000000</td>\n",
       "    </tr>\n",
       "    <tr>\n",
       "      <th>mean</th>\n",
       "      <td>733.201224</td>\n",
       "      <td>682.430273</td>\n",
       "      <td>3.086810</td>\n",
       "      <td>3.268238</td>\n",
       "    </tr>\n",
       "    <tr>\n",
       "      <th>std</th>\n",
       "      <td>3057.219626</td>\n",
       "      <td>2838.253504</td>\n",
       "      <td>0.904714</td>\n",
       "      <td>0.779929</td>\n",
       "    </tr>\n",
       "    <tr>\n",
       "      <th>min</th>\n",
       "      <td>0.000000</td>\n",
       "      <td>0.000000</td>\n",
       "      <td>0.000000</td>\n",
       "      <td>0.000000</td>\n",
       "    </tr>\n",
       "    <tr>\n",
       "      <th>25%</th>\n",
       "      <td>3.000000</td>\n",
       "      <td>3.000000</td>\n",
       "      <td>3.000000</td>\n",
       "      <td>3.000000</td>\n",
       "    </tr>\n",
       "    <tr>\n",
       "      <th>50%</th>\n",
       "      <td>16.000000</td>\n",
       "      <td>15.000000</td>\n",
       "      <td>3.000000</td>\n",
       "      <td>3.000000</td>\n",
       "    </tr>\n",
       "    <tr>\n",
       "      <th>75%</th>\n",
       "      <td>194.000000</td>\n",
       "      <td>182.000000</td>\n",
       "      <td>4.000000</td>\n",
       "      <td>4.000000</td>\n",
       "    </tr>\n",
       "    <tr>\n",
       "      <th>max</th>\n",
       "      <td>67310.000000</td>\n",
       "      <td>62744.000000</td>\n",
       "      <td>5.000000</td>\n",
       "      <td>4.000000</td>\n",
       "    </tr>\n",
       "  </tbody>\n",
       "</table>\n",
       "</div>"
      ],
      "text/plain": [
       "               CNT0           CNT           AVG      BAYESAVG\n",
       "count  27278.000000  27278.000000  27278.000000  27278.000000\n",
       "mean     733.201224    682.430273      3.086810      3.268238\n",
       "std     3057.219626   2838.253504      0.904714      0.779929\n",
       "min        0.000000      0.000000      0.000000      0.000000\n",
       "25%        3.000000      3.000000      3.000000      3.000000\n",
       "50%       16.000000     15.000000      3.000000      3.000000\n",
       "75%      194.000000    182.000000      4.000000      4.000000\n",
       "max    67310.000000  62744.000000      5.000000      4.000000"
      ]
     },
     "execution_count": 12,
     "metadata": {},
     "output_type": "execute_result"
    }
   ],
   "source": [
    "print(\"movies.shape is {}.\".format(movies.shape))\n",
    "print(\"Number of rows is {}, columns {}.\".format(movies.shape[0], movies.shape[1]))\n",
    "\n",
    "print(\"Column names are {}.\".format(movies.columns))\n",
    "\n",
    "print(\"... whithout type info {}.\".format(movies.columns.tolist()))\n",
    "\n",
    "print(\"movies.describe() output:\")\n",
    "\n",
    "movies.describe()"
   ]
  },
  {
   "cell_type": "markdown",
   "metadata": {
    "scrolled": true
   },
   "source": [
    "## Store the dataFrame in *.json format"
   ]
  },
  {
   "cell_type": "code",
   "execution_count": 13,
   "metadata": {},
   "outputs": [],
   "source": [
    "with open('data/mmovies.json', 'w') as f:\n",
    "    f.write(movies.to_json())"
   ]
  },
  {
   "cell_type": "markdown",
   "metadata": {},
   "source": [
    "# We may access following tables"
   ]
  },
  {
   "cell_type": "code",
   "execution_count": 14,
   "metadata": {},
   "outputs": [],
   "source": [
    "try:\n",
    "    oracle_tables=pd.read_sql_query(\"SELECT * FROM all_tables WHERE OWNER='RULEML'\", connection)\n",
    "except:\n",
    "    oracle_tables= pd.read_json('data/oracle.json')"
   ]
  },
  {
   "cell_type": "markdown",
   "metadata": {},
   "source": [
    "### Here is the list"
   ]
  },
  {
   "cell_type": "code",
   "execution_count": 15,
   "metadata": {},
   "outputs": [
    {
     "data": {
      "text/html": [
       "<div>\n",
       "<style scoped>\n",
       "    .dataframe tbody tr th:only-of-type {\n",
       "        vertical-align: middle;\n",
       "    }\n",
       "\n",
       "    .dataframe tbody tr th {\n",
       "        vertical-align: top;\n",
       "    }\n",
       "\n",
       "    .dataframe thead th {\n",
       "        text-align: right;\n",
       "    }\n",
       "</style>\n",
       "<table border=\"1\" class=\"dataframe\">\n",
       "  <thead>\n",
       "    <tr style=\"text-align: right;\">\n",
       "      <th></th>\n",
       "      <th>OWNER</th>\n",
       "      <th>TABLE_NAME</th>\n",
       "      <th>TABLESPACE_NAME</th>\n",
       "      <th>CLUSTER_NAME</th>\n",
       "      <th>IOT_NAME</th>\n",
       "      <th>STATUS</th>\n",
       "      <th>PCT_FREE</th>\n",
       "      <th>PCT_USED</th>\n",
       "      <th>INI_TRANS</th>\n",
       "      <th>MAX_TRANS</th>\n",
       "      <th>...</th>\n",
       "      <th>SKIP_CORRUPT</th>\n",
       "      <th>MONITORING</th>\n",
       "      <th>CLUSTER_OWNER</th>\n",
       "      <th>DEPENDENCIES</th>\n",
       "      <th>COMPRESSION</th>\n",
       "      <th>COMPRESS_FOR</th>\n",
       "      <th>DROPPED</th>\n",
       "      <th>READ_ONLY</th>\n",
       "      <th>SEGMENT_CREATED</th>\n",
       "      <th>RESULT_CACHE</th>\n",
       "    </tr>\n",
       "  </thead>\n",
       "  <tbody>\n",
       "    <tr>\n",
       "      <th>0</th>\n",
       "      <td>RULEML</td>\n",
       "      <td>FUSERS</td>\n",
       "      <td>RULEML</td>\n",
       "      <td>None</td>\n",
       "      <td>None</td>\n",
       "      <td>VALID</td>\n",
       "      <td>10</td>\n",
       "      <td>None</td>\n",
       "      <td>1</td>\n",
       "      <td>255</td>\n",
       "      <td>...</td>\n",
       "      <td>DISABLED</td>\n",
       "      <td>YES</td>\n",
       "      <td>None</td>\n",
       "      <td>DISABLED</td>\n",
       "      <td>DISABLED</td>\n",
       "      <td>None</td>\n",
       "      <td>NO</td>\n",
       "      <td>NO</td>\n",
       "      <td>YES</td>\n",
       "      <td>DEFAULT</td>\n",
       "    </tr>\n",
       "    <tr>\n",
       "      <th>1</th>\n",
       "      <td>RULEML</td>\n",
       "      <td>TW_TRAINING</td>\n",
       "      <td>RULEML</td>\n",
       "      <td>None</td>\n",
       "      <td>None</td>\n",
       "      <td>VALID</td>\n",
       "      <td>10</td>\n",
       "      <td>None</td>\n",
       "      <td>1</td>\n",
       "      <td>255</td>\n",
       "      <td>...</td>\n",
       "      <td>DISABLED</td>\n",
       "      <td>YES</td>\n",
       "      <td>None</td>\n",
       "      <td>DISABLED</td>\n",
       "      <td>DISABLED</td>\n",
       "      <td>None</td>\n",
       "      <td>NO</td>\n",
       "      <td>NO</td>\n",
       "      <td>YES</td>\n",
       "      <td>DEFAULT</td>\n",
       "    </tr>\n",
       "    <tr>\n",
       "      <th>2</th>\n",
       "      <td>RULEML</td>\n",
       "      <td>FRATINGS</td>\n",
       "      <td>RULEML</td>\n",
       "      <td>None</td>\n",
       "      <td>None</td>\n",
       "      <td>VALID</td>\n",
       "      <td>10</td>\n",
       "      <td>None</td>\n",
       "      <td>1</td>\n",
       "      <td>255</td>\n",
       "      <td>...</td>\n",
       "      <td>DISABLED</td>\n",
       "      <td>YES</td>\n",
       "      <td>None</td>\n",
       "      <td>DISABLED</td>\n",
       "      <td>DISABLED</td>\n",
       "      <td>None</td>\n",
       "      <td>NO</td>\n",
       "      <td>NO</td>\n",
       "      <td>YES</td>\n",
       "      <td>DEFAULT</td>\n",
       "    </tr>\n",
       "    <tr>\n",
       "      <th>3</th>\n",
       "      <td>RULEML</td>\n",
       "      <td>FMOVIES</td>\n",
       "      <td>RULEML</td>\n",
       "      <td>None</td>\n",
       "      <td>None</td>\n",
       "      <td>VALID</td>\n",
       "      <td>10</td>\n",
       "      <td>None</td>\n",
       "      <td>1</td>\n",
       "      <td>255</td>\n",
       "      <td>...</td>\n",
       "      <td>DISABLED</td>\n",
       "      <td>YES</td>\n",
       "      <td>None</td>\n",
       "      <td>DISABLED</td>\n",
       "      <td>DISABLED</td>\n",
       "      <td>None</td>\n",
       "      <td>NO</td>\n",
       "      <td>NO</td>\n",
       "      <td>YES</td>\n",
       "      <td>DEFAULT</td>\n",
       "    </tr>\n",
       "    <tr>\n",
       "      <th>4</th>\n",
       "      <td>RULEML</td>\n",
       "      <td>MMOVIES</td>\n",
       "      <td>RULEML</td>\n",
       "      <td>None</td>\n",
       "      <td>None</td>\n",
       "      <td>VALID</td>\n",
       "      <td>10</td>\n",
       "      <td>None</td>\n",
       "      <td>1</td>\n",
       "      <td>255</td>\n",
       "      <td>...</td>\n",
       "      <td>DISABLED</td>\n",
       "      <td>YES</td>\n",
       "      <td>None</td>\n",
       "      <td>DISABLED</td>\n",
       "      <td>DISABLED</td>\n",
       "      <td>None</td>\n",
       "      <td>NO</td>\n",
       "      <td>NO</td>\n",
       "      <td>YES</td>\n",
       "      <td>DEFAULT</td>\n",
       "    </tr>\n",
       "    <tr>\n",
       "      <th>5</th>\n",
       "      <td>RULEML</td>\n",
       "      <td>MRATINGS</td>\n",
       "      <td>RULEML</td>\n",
       "      <td>None</td>\n",
       "      <td>None</td>\n",
       "      <td>VALID</td>\n",
       "      <td>10</td>\n",
       "      <td>None</td>\n",
       "      <td>1</td>\n",
       "      <td>255</td>\n",
       "      <td>...</td>\n",
       "      <td>DISABLED</td>\n",
       "      <td>YES</td>\n",
       "      <td>None</td>\n",
       "      <td>DISABLED</td>\n",
       "      <td>DISABLED</td>\n",
       "      <td>None</td>\n",
       "      <td>NO</td>\n",
       "      <td>NO</td>\n",
       "      <td>YES</td>\n",
       "      <td>DEFAULT</td>\n",
       "    </tr>\n",
       "    <tr>\n",
       "      <th>6</th>\n",
       "      <td>RULEML</td>\n",
       "      <td>DBP_KODY</td>\n",
       "      <td>RULEML</td>\n",
       "      <td>None</td>\n",
       "      <td>None</td>\n",
       "      <td>VALID</td>\n",
       "      <td>10</td>\n",
       "      <td>None</td>\n",
       "      <td>1</td>\n",
       "      <td>255</td>\n",
       "      <td>...</td>\n",
       "      <td>DISABLED</td>\n",
       "      <td>YES</td>\n",
       "      <td>None</td>\n",
       "      <td>DISABLED</td>\n",
       "      <td>DISABLED</td>\n",
       "      <td>None</td>\n",
       "      <td>NO</td>\n",
       "      <td>NO</td>\n",
       "      <td>YES</td>\n",
       "      <td>DEFAULT</td>\n",
       "    </tr>\n",
       "    <tr>\n",
       "      <th>7</th>\n",
       "      <td>RULEML</td>\n",
       "      <td>IMDB</td>\n",
       "      <td>RULEML</td>\n",
       "      <td>None</td>\n",
       "      <td>None</td>\n",
       "      <td>VALID</td>\n",
       "      <td>10</td>\n",
       "      <td>None</td>\n",
       "      <td>1</td>\n",
       "      <td>255</td>\n",
       "      <td>...</td>\n",
       "      <td>DISABLED</td>\n",
       "      <td>YES</td>\n",
       "      <td>None</td>\n",
       "      <td>DISABLED</td>\n",
       "      <td>DISABLED</td>\n",
       "      <td>None</td>\n",
       "      <td>NO</td>\n",
       "      <td>NO</td>\n",
       "      <td>YES</td>\n",
       "      <td>DEFAULT</td>\n",
       "    </tr>\n",
       "    <tr>\n",
       "      <th>8</th>\n",
       "      <td>RULEML</td>\n",
       "      <td>MUSERS</td>\n",
       "      <td>RULEML</td>\n",
       "      <td>None</td>\n",
       "      <td>None</td>\n",
       "      <td>VALID</td>\n",
       "      <td>10</td>\n",
       "      <td>None</td>\n",
       "      <td>1</td>\n",
       "      <td>255</td>\n",
       "      <td>...</td>\n",
       "      <td>DISABLED</td>\n",
       "      <td>YES</td>\n",
       "      <td>None</td>\n",
       "      <td>DISABLED</td>\n",
       "      <td>DISABLED</td>\n",
       "      <td>None</td>\n",
       "      <td>NO</td>\n",
       "      <td>NO</td>\n",
       "      <td>YES</td>\n",
       "      <td>DEFAULT</td>\n",
       "    </tr>\n",
       "    <tr>\n",
       "      <th>9</th>\n",
       "      <td>RULEML</td>\n",
       "      <td>WMOVIES</td>\n",
       "      <td>RULEML</td>\n",
       "      <td>None</td>\n",
       "      <td>None</td>\n",
       "      <td>VALID</td>\n",
       "      <td>10</td>\n",
       "      <td>None</td>\n",
       "      <td>1</td>\n",
       "      <td>255</td>\n",
       "      <td>...</td>\n",
       "      <td>DISABLED</td>\n",
       "      <td>YES</td>\n",
       "      <td>None</td>\n",
       "      <td>DISABLED</td>\n",
       "      <td>DISABLED</td>\n",
       "      <td>None</td>\n",
       "      <td>NO</td>\n",
       "      <td>NO</td>\n",
       "      <td>YES</td>\n",
       "      <td>DEFAULT</td>\n",
       "    </tr>\n",
       "    <tr>\n",
       "      <th>10</th>\n",
       "      <td>RULEML</td>\n",
       "      <td>WUSERS</td>\n",
       "      <td>RULEML</td>\n",
       "      <td>None</td>\n",
       "      <td>None</td>\n",
       "      <td>VALID</td>\n",
       "      <td>10</td>\n",
       "      <td>None</td>\n",
       "      <td>1</td>\n",
       "      <td>255</td>\n",
       "      <td>...</td>\n",
       "      <td>DISABLED</td>\n",
       "      <td>YES</td>\n",
       "      <td>None</td>\n",
       "      <td>DISABLED</td>\n",
       "      <td>DISABLED</td>\n",
       "      <td>None</td>\n",
       "      <td>NO</td>\n",
       "      <td>NO</td>\n",
       "      <td>YES</td>\n",
       "      <td>DEFAULT</td>\n",
       "    </tr>\n",
       "  </tbody>\n",
       "</table>\n",
       "<p>11 rows × 55 columns</p>\n",
       "</div>"
      ],
      "text/plain": [
       "     OWNER   TABLE_NAME TABLESPACE_NAME CLUSTER_NAME IOT_NAME STATUS  \\\n",
       "0   RULEML       FUSERS          RULEML         None     None  VALID   \n",
       "1   RULEML  TW_TRAINING          RULEML         None     None  VALID   \n",
       "2   RULEML     FRATINGS          RULEML         None     None  VALID   \n",
       "3   RULEML      FMOVIES          RULEML         None     None  VALID   \n",
       "4   RULEML      MMOVIES          RULEML         None     None  VALID   \n",
       "5   RULEML     MRATINGS          RULEML         None     None  VALID   \n",
       "6   RULEML     DBP_KODY          RULEML         None     None  VALID   \n",
       "7   RULEML         IMDB          RULEML         None     None  VALID   \n",
       "8   RULEML       MUSERS          RULEML         None     None  VALID   \n",
       "9   RULEML      WMOVIES          RULEML         None     None  VALID   \n",
       "10  RULEML       WUSERS          RULEML         None     None  VALID   \n",
       "\n",
       "    PCT_FREE PCT_USED  INI_TRANS  MAX_TRANS  ...  SKIP_CORRUPT  MONITORING  \\\n",
       "0         10     None          1        255  ...      DISABLED         YES   \n",
       "1         10     None          1        255  ...      DISABLED         YES   \n",
       "2         10     None          1        255  ...      DISABLED         YES   \n",
       "3         10     None          1        255  ...      DISABLED         YES   \n",
       "4         10     None          1        255  ...      DISABLED         YES   \n",
       "5         10     None          1        255  ...      DISABLED         YES   \n",
       "6         10     None          1        255  ...      DISABLED         YES   \n",
       "7         10     None          1        255  ...      DISABLED         YES   \n",
       "8         10     None          1        255  ...      DISABLED         YES   \n",
       "9         10     None          1        255  ...      DISABLED         YES   \n",
       "10        10     None          1        255  ...      DISABLED         YES   \n",
       "\n",
       "    CLUSTER_OWNER  DEPENDENCIES COMPRESSION COMPRESS_FOR DROPPED READ_ONLY  \\\n",
       "0            None      DISABLED    DISABLED         None      NO        NO   \n",
       "1            None      DISABLED    DISABLED         None      NO        NO   \n",
       "2            None      DISABLED    DISABLED         None      NO        NO   \n",
       "3            None      DISABLED    DISABLED         None      NO        NO   \n",
       "4            None      DISABLED    DISABLED         None      NO        NO   \n",
       "5            None      DISABLED    DISABLED         None      NO        NO   \n",
       "6            None      DISABLED    DISABLED         None      NO        NO   \n",
       "7            None      DISABLED    DISABLED         None      NO        NO   \n",
       "8            None      DISABLED    DISABLED         None      NO        NO   \n",
       "9            None      DISABLED    DISABLED         None      NO        NO   \n",
       "10           None      DISABLED    DISABLED         None      NO        NO   \n",
       "\n",
       "   SEGMENT_CREATED  RESULT_CACHE  \n",
       "0              YES       DEFAULT  \n",
       "1              YES       DEFAULT  \n",
       "2              YES       DEFAULT  \n",
       "3              YES       DEFAULT  \n",
       "4              YES       DEFAULT  \n",
       "5              YES       DEFAULT  \n",
       "6              YES       DEFAULT  \n",
       "7              YES       DEFAULT  \n",
       "8              YES       DEFAULT  \n",
       "9              YES       DEFAULT  \n",
       "10             YES       DEFAULT  \n",
       "\n",
       "[11 rows x 55 columns]"
      ]
     },
     "execution_count": 15,
     "metadata": {},
     "output_type": "execute_result"
    }
   ],
   "source": [
    "oracle_tables"
   ]
  },
  {
   "cell_type": "markdown",
   "metadata": {},
   "source": [
    "### One column list is sufficient"
   ]
  },
  {
   "cell_type": "code",
   "execution_count": 16,
   "metadata": {},
   "outputs": [
    {
     "data": {
      "text/plain": [
       "0          FUSERS\n",
       "1     TW_TRAINING\n",
       "2        FRATINGS\n",
       "3         FMOVIES\n",
       "4         MMOVIES\n",
       "5        MRATINGS\n",
       "6        DBP_KODY\n",
       "7            IMDB\n",
       "8          MUSERS\n",
       "9         WMOVIES\n",
       "10         WUSERS\n",
       "Name: TABLE_NAME, dtype: object"
      ]
     },
     "execution_count": 16,
     "metadata": {},
     "output_type": "execute_result"
    }
   ],
   "source": [
    "oracle_tables['TABLE_NAME']"
   ]
  },
  {
   "cell_type": "markdown",
   "metadata": {},
   "source": [
    "We have three sets of tables \n",
    "\n",
    "    M-movielense, F - netflix, W - twitter\n",
    "    \n",
    "with three tables in each set:\n",
    "\n",
    "    ?MOVIES, ?RATINGS, ?USERS\n",
    "    \n",
    "the tables are connected by the keys MOVIEID, USERID\n",
    "\n",
    "the movies are connected by TT with\n",
    "\n",
    "    IMDB"
   ]
  },
  {
   "cell_type": "markdown",
   "metadata": {},
   "source": [
    "## Selection criteria definition (movies with many ratings)"
   ]
  },
  {
   "cell_type": "code",
   "execution_count": 17,
   "metadata": {},
   "outputs": [
    {
     "data": {
      "text/plain": [
       "MOVIEID\n",
       "1         False\n",
       "2         False\n",
       "3         False\n",
       "4         False\n",
       "5         False\n",
       "          ...  \n",
       "131254    False\n",
       "131256    False\n",
       "131258    False\n",
       "131260    False\n",
       "131262    False\n",
       "Name: CNT, Length: 27278, dtype: bool"
      ]
     },
     "execution_count": 17,
     "metadata": {},
     "output_type": "execute_result"
    }
   ],
   "source": [
    "popular_crit=movies.CNT>50000\n",
    "popular_crit"
   ]
  },
  {
   "cell_type": "markdown",
   "metadata": {},
   "source": [
    "## Selection according the criterion"
   ]
  },
  {
   "cell_type": "code",
   "execution_count": 18,
   "metadata": {},
   "outputs": [
    {
     "data": {
      "text/html": [
       "<div>\n",
       "<style scoped>\n",
       "    .dataframe tbody tr th:only-of-type {\n",
       "        vertical-align: middle;\n",
       "    }\n",
       "\n",
       "    .dataframe tbody tr th {\n",
       "        vertical-align: top;\n",
       "    }\n",
       "\n",
       "    .dataframe thead th {\n",
       "        text-align: right;\n",
       "    }\n",
       "</style>\n",
       "<table border=\"1\" class=\"dataframe\">\n",
       "  <thead>\n",
       "    <tr style=\"text-align: right;\">\n",
       "      <th></th>\n",
       "      <th>TITLE</th>\n",
       "      <th>GENRE</th>\n",
       "      <th>TT</th>\n",
       "      <th>CNT0</th>\n",
       "      <th>CNT</th>\n",
       "      <th>AVG</th>\n",
       "      <th>BAYESAVG</th>\n",
       "    </tr>\n",
       "    <tr>\n",
       "      <th>MOVIEID</th>\n",
       "      <th></th>\n",
       "      <th></th>\n",
       "      <th></th>\n",
       "      <th></th>\n",
       "      <th></th>\n",
       "      <th></th>\n",
       "      <th></th>\n",
       "    </tr>\n",
       "  </thead>\n",
       "  <tbody>\n",
       "    <tr>\n",
       "      <th>260</th>\n",
       "      <td>Star Wars: Episode IV - A New Hope (1977)</td>\n",
       "      <td>Action|Adventure|Sci-Fi\\r</td>\n",
       "      <td>tt0076759</td>\n",
       "      <td>54502</td>\n",
       "      <td>50180</td>\n",
       "      <td>4</td>\n",
       "      <td>4</td>\n",
       "    </tr>\n",
       "    <tr>\n",
       "      <th>296</th>\n",
       "      <td>Pulp Fiction (1994)</td>\n",
       "      <td>Comedy|Crime|Drama|Thriller\\r</td>\n",
       "      <td>tt0110912</td>\n",
       "      <td>67310</td>\n",
       "      <td>62744</td>\n",
       "      <td>4</td>\n",
       "      <td>4</td>\n",
       "    </tr>\n",
       "    <tr>\n",
       "      <th>318</th>\n",
       "      <td>Shawshank Redemption, The (1994)</td>\n",
       "      <td>Crime|Drama\\r</td>\n",
       "      <td>tt0111161</td>\n",
       "      <td>63366</td>\n",
       "      <td>57486</td>\n",
       "      <td>4</td>\n",
       "      <td>4</td>\n",
       "    </tr>\n",
       "    <tr>\n",
       "      <th>356</th>\n",
       "      <td>Forrest Gump (1994)</td>\n",
       "      <td>Comedy|Drama|Romance|War\\r</td>\n",
       "      <td>tt0109830</td>\n",
       "      <td>66172</td>\n",
       "      <td>60572</td>\n",
       "      <td>4</td>\n",
       "      <td>4</td>\n",
       "    </tr>\n",
       "    <tr>\n",
       "      <th>480</th>\n",
       "      <td>Jurassic Park (1993)</td>\n",
       "      <td>Action|Adventure|Sci-Fi|Thriller\\r</td>\n",
       "      <td>tt0107290</td>\n",
       "      <td>59715</td>\n",
       "      <td>54957</td>\n",
       "      <td>4</td>\n",
       "      <td>4</td>\n",
       "    </tr>\n",
       "    <tr>\n",
       "      <th>593</th>\n",
       "      <td>Silence of the Lambs, The (1991)</td>\n",
       "      <td>Crime|Horror|Thriller\\r</td>\n",
       "      <td>tt0102926</td>\n",
       "      <td>63299</td>\n",
       "      <td>58429</td>\n",
       "      <td>4</td>\n",
       "      <td>4</td>\n",
       "    </tr>\n",
       "  </tbody>\n",
       "</table>\n",
       "</div>"
      ],
      "text/plain": [
       "                                             TITLE  \\\n",
       "MOVIEID                                              \n",
       "260      Star Wars: Episode IV - A New Hope (1977)   \n",
       "296                            Pulp Fiction (1994)   \n",
       "318               Shawshank Redemption, The (1994)   \n",
       "356                            Forrest Gump (1994)   \n",
       "480                           Jurassic Park (1993)   \n",
       "593               Silence of the Lambs, The (1991)   \n",
       "\n",
       "                                      GENRE         TT   CNT0    CNT  AVG  \\\n",
       "MOVIEID                                                                     \n",
       "260               Action|Adventure|Sci-Fi\\r  tt0076759  54502  50180    4   \n",
       "296           Comedy|Crime|Drama|Thriller\\r  tt0110912  67310  62744    4   \n",
       "318                           Crime|Drama\\r  tt0111161  63366  57486    4   \n",
       "356              Comedy|Drama|Romance|War\\r  tt0109830  66172  60572    4   \n",
       "480      Action|Adventure|Sci-Fi|Thriller\\r  tt0107290  59715  54957    4   \n",
       "593                 Crime|Horror|Thriller\\r  tt0102926  63299  58429    4   \n",
       "\n",
       "         BAYESAVG  \n",
       "MOVIEID            \n",
       "260             4  \n",
       "296             4  \n",
       "318             4  \n",
       "356             4  \n",
       "480             4  \n",
       "593             4  "
      ]
     },
     "execution_count": 18,
     "metadata": {},
     "output_type": "execute_result"
    }
   ],
   "source": [
    "popular=movies[popular_crit]\n",
    "popular"
   ]
  },
  {
   "cell_type": "code",
   "execution_count": 19,
   "metadata": {
    "scrolled": true
   },
   "outputs": [
    {
     "data": {
      "text/plain": [
       "Index(['TITLE', 'GENRE', 'TT', 'CNT0', 'CNT', 'AVG', 'BAYESAVG'], dtype='object')"
      ]
     },
     "execution_count": 19,
     "metadata": {},
     "output_type": "execute_result"
    }
   ],
   "source": [
    "popular.columns"
   ]
  },
  {
   "cell_type": "code",
   "execution_count": 20,
   "metadata": {},
   "outputs": [
    {
     "data": {
      "text/plain": [
       "False"
      ]
     },
     "execution_count": 20,
     "metadata": {},
     "output_type": "execute_result"
    }
   ],
   "source": [
    "'TTT' in popular.columns"
   ]
  },
  {
   "cell_type": "code",
   "execution_count": 21,
   "metadata": {
    "scrolled": false
   },
   "outputs": [
    {
     "data": {
      "text/plain": [
       "MOVIEID\n",
       "260    Star Wars: Episode IV - A New Hope (1977)\n",
       "296                          Pulp Fiction (1994)\n",
       "318             Shawshank Redemption, The (1994)\n",
       "356                          Forrest Gump (1994)\n",
       "480                         Jurassic Park (1993)\n",
       "593             Silence of the Lambs, The (1991)\n",
       "Name: TITLE, dtype: object"
      ]
     },
     "execution_count": 21,
     "metadata": {},
     "output_type": "execute_result"
    }
   ],
   "source": [
    "popular.TITLE  # jeden sloupec je Series"
   ]
  },
  {
   "cell_type": "markdown",
   "metadata": {},
   "source": [
    "### Series index and values"
   ]
  },
  {
   "cell_type": "code",
   "execution_count": 22,
   "metadata": {
    "scrolled": true
   },
   "outputs": [
    {
     "data": {
      "text/plain": [
       "Int64Index([260, 296, 318, 356, 480, 593], dtype='int64', name='MOVIEID')"
      ]
     },
     "execution_count": 22,
     "metadata": {},
     "output_type": "execute_result"
    }
   ],
   "source": [
    "popular.TITLE.index # Series má .index  a .values"
   ]
  },
  {
   "cell_type": "code",
   "execution_count": 23,
   "metadata": {},
   "outputs": [
    {
     "data": {
      "text/plain": [
       "array(['Star Wars: Episode IV - A New Hope (1977)', 'Pulp Fiction (1994)',\n",
       "       'Shawshank Redemption, The (1994)', 'Forrest Gump (1994)',\n",
       "       'Jurassic Park (1993)', 'Silence of the Lambs, The (1991)'],\n",
       "      dtype=object)"
      ]
     },
     "execution_count": 23,
     "metadata": {},
     "output_type": "execute_result"
    }
   ],
   "source": [
    "popular.TITLE.values"
   ]
  },
  {
   "cell_type": "markdown",
   "metadata": {},
   "source": [
    "### Dataframe index and values "
   ]
  },
  {
   "cell_type": "code",
   "execution_count": 24,
   "metadata": {},
   "outputs": [
    {
     "data": {
      "text/plain": [
       "Int64Index([260, 296, 318, 356, 480, 593], dtype='int64', name='MOVIEID')"
      ]
     },
     "execution_count": 24,
     "metadata": {},
     "output_type": "execute_result"
    }
   ],
   "source": [
    "popular.index"
   ]
  },
  {
   "cell_type": "code",
   "execution_count": 25,
   "metadata": {
    "scrolled": true
   },
   "outputs": [
    {
     "data": {
      "text/plain": [
       "array([['Star Wars: Episode IV - A New Hope (1977)',\n",
       "        'Action|Adventure|Sci-Fi\\r', 'tt0076759', 54502, 50180, 4, 4],\n",
       "       ['Pulp Fiction (1994)', 'Comedy|Crime|Drama|Thriller\\r',\n",
       "        'tt0110912', 67310, 62744, 4, 4],\n",
       "       ['Shawshank Redemption, The (1994)', 'Crime|Drama\\r', 'tt0111161',\n",
       "        63366, 57486, 4, 4],\n",
       "       ['Forrest Gump (1994)', 'Comedy|Drama|Romance|War\\r', 'tt0109830',\n",
       "        66172, 60572, 4, 4],\n",
       "       ['Jurassic Park (1993)', 'Action|Adventure|Sci-Fi|Thriller\\r',\n",
       "        'tt0107290', 59715, 54957, 4, 4],\n",
       "       ['Silence of the Lambs, The (1991)', 'Crime|Horror|Thriller\\r',\n",
       "        'tt0102926', 63299, 58429, 4, 4]], dtype=object)"
      ]
     },
     "execution_count": 25,
     "metadata": {},
     "output_type": "execute_result"
    }
   ],
   "source": [
    "popular.values"
   ]
  },
  {
   "cell_type": "markdown",
   "metadata": {},
   "source": [
    "# Sequential pass through # rarely used; usually, we assign (print) as a structure"
   ]
  },
  {
   "cell_type": "markdown",
   "metadata": {},
   "source": [
    "### Series"
   ]
  },
  {
   "cell_type": "code",
   "execution_count": 26,
   "metadata": {},
   "outputs": [
    {
     "data": {
      "text/plain": [
       "Int64Index([260, 296, 318, 356, 480, 593], dtype='int64', name='MOVIEID')"
      ]
     },
     "execution_count": 26,
     "metadata": {},
     "output_type": "execute_result"
    }
   ],
   "source": [
    "popular.TITLE.keys()"
   ]
  },
  {
   "cell_type": "code",
   "execution_count": 27,
   "metadata": {},
   "outputs": [
    {
     "data": {
      "text/plain": [
       "<zip at 0x2881bfb9480>"
      ]
     },
     "execution_count": 27,
     "metadata": {},
     "output_type": "execute_result"
    }
   ],
   "source": [
    "popular.TITLE.items()"
   ]
  },
  {
   "cell_type": "markdown",
   "metadata": {},
   "source": [
    "### for cycle in pyton syntax"
   ]
  },
  {
   "cell_type": "code",
   "execution_count": 28,
   "metadata": {
    "scrolled": true
   },
   "outputs": [
    {
     "name": "stdout",
     "output_type": "stream",
     "text": [
      "Star Wars: Episode IV - A New Hope (1977)\n",
      "Pulp Fiction (1994)\n",
      "Shawshank Redemption, The (1994)\n",
      "Forrest Gump (1994)\n",
      "Jurassic Park (1993)\n",
      "Silence of the Lambs, The (1991)\n"
     ]
    }
   ],
   "source": [
    "for (key,value) in popular.TITLE.items():\n",
    "    print(value)"
   ]
  },
  {
   "cell_type": "markdown",
   "metadata": {},
   "source": [
    "### DataFrame: Series Series"
   ]
  },
  {
   "cell_type": "code",
   "execution_count": 29,
   "metadata": {},
   "outputs": [
    {
     "data": {
      "text/plain": [
       "Index(['TITLE', 'GENRE', 'TT', 'CNT0', 'CNT', 'AVG', 'BAYESAVG'], dtype='object')"
      ]
     },
     "execution_count": 29,
     "metadata": {},
     "output_type": "execute_result"
    }
   ],
   "source": [
    "popular.keys()"
   ]
  },
  {
   "cell_type": "code",
   "execution_count": 30,
   "metadata": {},
   "outputs": [
    {
     "name": "stdout",
     "output_type": "stream",
     "text": [
      "MOVIEID\n",
      "260    Star Wars: Episode IV - A New Hope (1977)\n",
      "296                          Pulp Fiction (1994)\n",
      "318             Shawshank Redemption, The (1994)\n",
      "356                          Forrest Gump (1994)\n",
      "480                         Jurassic Park (1993)\n",
      "593             Silence of the Lambs, The (1991)\n",
      "Name: TITLE, dtype: object\n",
      "MOVIEID\n",
      "260             Action|Adventure|Sci-Fi\\r\n",
      "296         Comedy|Crime|Drama|Thriller\\r\n",
      "318                         Crime|Drama\\r\n",
      "356            Comedy|Drama|Romance|War\\r\n",
      "480    Action|Adventure|Sci-Fi|Thriller\\r\n",
      "593               Crime|Horror|Thriller\\r\n",
      "Name: GENRE, dtype: object\n",
      "MOVIEID\n",
      "260    tt0076759\n",
      "296    tt0110912\n",
      "318    tt0111161\n",
      "356    tt0109830\n",
      "480    tt0107290\n",
      "593    tt0102926\n",
      "Name: TT, dtype: object\n",
      "MOVIEID\n",
      "260    54502\n",
      "296    67310\n",
      "318    63366\n",
      "356    66172\n",
      "480    59715\n",
      "593    63299\n",
      "Name: CNT0, dtype: int64\n",
      "MOVIEID\n",
      "260    50180\n",
      "296    62744\n",
      "318    57486\n",
      "356    60572\n",
      "480    54957\n",
      "593    58429\n",
      "Name: CNT, dtype: int64\n",
      "MOVIEID\n",
      "260    4\n",
      "296    4\n",
      "318    4\n",
      "356    4\n",
      "480    4\n",
      "593    4\n",
      "Name: AVG, dtype: int64\n",
      "MOVIEID\n",
      "260    4\n",
      "296    4\n",
      "318    4\n",
      "356    4\n",
      "480    4\n",
      "593    4\n",
      "Name: BAYESAVG, dtype: int64\n"
     ]
    }
   ],
   "source": [
    "for (key,value) in popular.items():\n",
    "    print(value)"
   ]
  },
  {
   "cell_type": "code",
   "execution_count": 31,
   "metadata": {},
   "outputs": [
    {
     "data": {
      "text/plain": [
       "True"
      ]
     },
     "execution_count": 31,
     "metadata": {},
     "output_type": "execute_result"
    }
   ],
   "source": [
    "'TT' in popular.keys() #set operations"
   ]
  },
  {
   "cell_type": "markdown",
   "metadata": {},
   "source": [
    "# Slicing a DataFrame"
   ]
  },
  {
   "cell_type": "code",
   "execution_count": 32,
   "metadata": {},
   "outputs": [
    {
     "data": {
      "text/plain": [
       "MOVIEID\n",
       "260    Star Wars: Episode IV - A New Hope (1977)\n",
       "296                          Pulp Fiction (1994)\n",
       "318             Shawshank Redemption, The (1994)\n",
       "356                          Forrest Gump (1994)\n",
       "480                         Jurassic Park (1993)\n",
       "593             Silence of the Lambs, The (1991)\n",
       "Name: TITLE, dtype: object"
      ]
     },
     "execution_count": 32,
     "metadata": {},
     "output_type": "execute_result"
    }
   ],
   "source": [
    "# slicing by explicit index\n",
    "popular['TITLE']"
   ]
  },
  {
   "cell_type": "code",
   "execution_count": 33,
   "metadata": {},
   "outputs": [
    {
     "data": {
      "text/plain": [
       "MOVIEID\n",
       "260    Star Wars: Episode IV - A New Hope (1977)\n",
       "296                          Pulp Fiction (1994)\n",
       "318             Shawshank Redemption, The (1994)\n",
       "356                          Forrest Gump (1994)\n",
       "480                         Jurassic Park (1993)\n",
       "593             Silence of the Lambs, The (1991)\n",
       "Name: TITLE, dtype: object"
      ]
     },
     "execution_count": 33,
     "metadata": {},
     "output_type": "execute_result"
    }
   ],
   "source": [
    "popular.TITLE   # pokud není v konfliktu s klíčovým slovem a je string"
   ]
  },
  {
   "cell_type": "code",
   "execution_count": 34,
   "metadata": {},
   "outputs": [
    {
     "data": {
      "text/html": [
       "<div>\n",
       "<style scoped>\n",
       "    .dataframe tbody tr th:only-of-type {\n",
       "        vertical-align: middle;\n",
       "    }\n",
       "\n",
       "    .dataframe tbody tr th {\n",
       "        vertical-align: top;\n",
       "    }\n",
       "\n",
       "    .dataframe thead th {\n",
       "        text-align: right;\n",
       "    }\n",
       "</style>\n",
       "<table border=\"1\" class=\"dataframe\">\n",
       "  <thead>\n",
       "    <tr style=\"text-align: right;\">\n",
       "      <th></th>\n",
       "      <th>TITLE</th>\n",
       "      <th>GENRE</th>\n",
       "    </tr>\n",
       "    <tr>\n",
       "      <th>MOVIEID</th>\n",
       "      <th></th>\n",
       "      <th></th>\n",
       "    </tr>\n",
       "  </thead>\n",
       "  <tbody>\n",
       "    <tr>\n",
       "      <th>260</th>\n",
       "      <td>Star Wars: Episode IV - A New Hope (1977)</td>\n",
       "      <td>Action|Adventure|Sci-Fi\\r</td>\n",
       "    </tr>\n",
       "    <tr>\n",
       "      <th>296</th>\n",
       "      <td>Pulp Fiction (1994)</td>\n",
       "      <td>Comedy|Crime|Drama|Thriller\\r</td>\n",
       "    </tr>\n",
       "    <tr>\n",
       "      <th>318</th>\n",
       "      <td>Shawshank Redemption, The (1994)</td>\n",
       "      <td>Crime|Drama\\r</td>\n",
       "    </tr>\n",
       "    <tr>\n",
       "      <th>356</th>\n",
       "      <td>Forrest Gump (1994)</td>\n",
       "      <td>Comedy|Drama|Romance|War\\r</td>\n",
       "    </tr>\n",
       "    <tr>\n",
       "      <th>480</th>\n",
       "      <td>Jurassic Park (1993)</td>\n",
       "      <td>Action|Adventure|Sci-Fi|Thriller\\r</td>\n",
       "    </tr>\n",
       "    <tr>\n",
       "      <th>593</th>\n",
       "      <td>Silence of the Lambs, The (1991)</td>\n",
       "      <td>Crime|Horror|Thriller\\r</td>\n",
       "    </tr>\n",
       "  </tbody>\n",
       "</table>\n",
       "</div>"
      ],
      "text/plain": [
       "                                             TITLE  \\\n",
       "MOVIEID                                              \n",
       "260      Star Wars: Episode IV - A New Hope (1977)   \n",
       "296                            Pulp Fiction (1994)   \n",
       "318               Shawshank Redemption, The (1994)   \n",
       "356                            Forrest Gump (1994)   \n",
       "480                           Jurassic Park (1993)   \n",
       "593               Silence of the Lambs, The (1991)   \n",
       "\n",
       "                                      GENRE  \n",
       "MOVIEID                                      \n",
       "260               Action|Adventure|Sci-Fi\\r  \n",
       "296           Comedy|Crime|Drama|Thriller\\r  \n",
       "318                           Crime|Drama\\r  \n",
       "356              Comedy|Drama|Romance|War\\r  \n",
       "480      Action|Adventure|Sci-Fi|Thriller\\r  \n",
       "593                 Crime|Horror|Thriller\\r  "
      ]
     },
     "execution_count": 34,
     "metadata": {},
     "output_type": "execute_result"
    }
   ],
   "source": [
    "popular[['TITLE','GENRE']] #list of columns"
   ]
  },
  {
   "cell_type": "code",
   "execution_count": 35,
   "metadata": {},
   "outputs": [
    {
     "data": {
      "text/html": [
       "<div>\n",
       "<style scoped>\n",
       "    .dataframe tbody tr th:only-of-type {\n",
       "        vertical-align: middle;\n",
       "    }\n",
       "\n",
       "    .dataframe tbody tr th {\n",
       "        vertical-align: top;\n",
       "    }\n",
       "\n",
       "    .dataframe thead th {\n",
       "        text-align: right;\n",
       "    }\n",
       "</style>\n",
       "<table border=\"1\" class=\"dataframe\">\n",
       "  <thead>\n",
       "    <tr style=\"text-align: right;\">\n",
       "      <th></th>\n",
       "      <th>TITLE</th>\n",
       "      <th>GENRE</th>\n",
       "      <th>TT</th>\n",
       "      <th>CNT0</th>\n",
       "      <th>CNT</th>\n",
       "      <th>AVG</th>\n",
       "      <th>BAYESAVG</th>\n",
       "    </tr>\n",
       "    <tr>\n",
       "      <th>MOVIEID</th>\n",
       "      <th></th>\n",
       "      <th></th>\n",
       "      <th></th>\n",
       "      <th></th>\n",
       "      <th></th>\n",
       "      <th></th>\n",
       "      <th></th>\n",
       "    </tr>\n",
       "  </thead>\n",
       "  <tbody>\n",
       "    <tr>\n",
       "      <th>260</th>\n",
       "      <td>Star Wars: Episode IV - A New Hope (1977)</td>\n",
       "      <td>Action|Adventure|Sci-Fi\\r</td>\n",
       "      <td>tt0076759</td>\n",
       "      <td>54502</td>\n",
       "      <td>50180</td>\n",
       "      <td>4</td>\n",
       "      <td>4</td>\n",
       "    </tr>\n",
       "    <tr>\n",
       "      <th>296</th>\n",
       "      <td>Pulp Fiction (1994)</td>\n",
       "      <td>Comedy|Crime|Drama|Thriller\\r</td>\n",
       "      <td>tt0110912</td>\n",
       "      <td>67310</td>\n",
       "      <td>62744</td>\n",
       "      <td>4</td>\n",
       "      <td>4</td>\n",
       "    </tr>\n",
       "    <tr>\n",
       "      <th>318</th>\n",
       "      <td>Shawshank Redemption, The (1994)</td>\n",
       "      <td>Crime|Drama\\r</td>\n",
       "      <td>tt0111161</td>\n",
       "      <td>63366</td>\n",
       "      <td>57486</td>\n",
       "      <td>4</td>\n",
       "      <td>4</td>\n",
       "    </tr>\n",
       "    <tr>\n",
       "      <th>356</th>\n",
       "      <td>Forrest Gump (1994)</td>\n",
       "      <td>Comedy|Drama|Romance|War\\r</td>\n",
       "      <td>tt0109830</td>\n",
       "      <td>66172</td>\n",
       "      <td>60572</td>\n",
       "      <td>4</td>\n",
       "      <td>4</td>\n",
       "    </tr>\n",
       "    <tr>\n",
       "      <th>480</th>\n",
       "      <td>Jurassic Park (1993)</td>\n",
       "      <td>Action|Adventure|Sci-Fi|Thriller\\r</td>\n",
       "      <td>tt0107290</td>\n",
       "      <td>59715</td>\n",
       "      <td>54957</td>\n",
       "      <td>4</td>\n",
       "      <td>4</td>\n",
       "    </tr>\n",
       "    <tr>\n",
       "      <th>593</th>\n",
       "      <td>Silence of the Lambs, The (1991)</td>\n",
       "      <td>Crime|Horror|Thriller\\r</td>\n",
       "      <td>tt0102926</td>\n",
       "      <td>63299</td>\n",
       "      <td>58429</td>\n",
       "      <td>4</td>\n",
       "      <td>4</td>\n",
       "    </tr>\n",
       "  </tbody>\n",
       "</table>\n",
       "</div>"
      ],
      "text/plain": [
       "                                             TITLE  \\\n",
       "MOVIEID                                              \n",
       "260      Star Wars: Episode IV - A New Hope (1977)   \n",
       "296                            Pulp Fiction (1994)   \n",
       "318               Shawshank Redemption, The (1994)   \n",
       "356                            Forrest Gump (1994)   \n",
       "480                           Jurassic Park (1993)   \n",
       "593               Silence of the Lambs, The (1991)   \n",
       "\n",
       "                                      GENRE         TT   CNT0    CNT  AVG  \\\n",
       "MOVIEID                                                                     \n",
       "260               Action|Adventure|Sci-Fi\\r  tt0076759  54502  50180    4   \n",
       "296           Comedy|Crime|Drama|Thriller\\r  tt0110912  67310  62744    4   \n",
       "318                           Crime|Drama\\r  tt0111161  63366  57486    4   \n",
       "356              Comedy|Drama|Romance|War\\r  tt0109830  66172  60572    4   \n",
       "480      Action|Adventure|Sci-Fi|Thriller\\r  tt0107290  59715  54957    4   \n",
       "593                 Crime|Horror|Thriller\\r  tt0102926  63299  58429    4   \n",
       "\n",
       "         BAYESAVG  \n",
       "MOVIEID            \n",
       "260             4  \n",
       "296             4  \n",
       "318             4  \n",
       "356             4  \n",
       "480             4  \n",
       "593             4  "
      ]
     },
     "execution_count": 35,
     "metadata": {},
     "output_type": "execute_result"
    }
   ],
   "source": [
    "popular[popular.AVG==4]"
   ]
  },
  {
   "cell_type": "markdown",
   "metadata": {},
   "source": [
    "## Compound condition OR"
   ]
  },
  {
   "cell_type": "code",
   "execution_count": 36,
   "metadata": {},
   "outputs": [
    {
     "data": {
      "text/html": [
       "<div>\n",
       "<style scoped>\n",
       "    .dataframe tbody tr th:only-of-type {\n",
       "        vertical-align: middle;\n",
       "    }\n",
       "\n",
       "    .dataframe tbody tr th {\n",
       "        vertical-align: top;\n",
       "    }\n",
       "\n",
       "    .dataframe thead th {\n",
       "        text-align: right;\n",
       "    }\n",
       "</style>\n",
       "<table border=\"1\" class=\"dataframe\">\n",
       "  <thead>\n",
       "    <tr style=\"text-align: right;\">\n",
       "      <th></th>\n",
       "      <th>TITLE</th>\n",
       "      <th>GENRE</th>\n",
       "      <th>TT</th>\n",
       "      <th>CNT0</th>\n",
       "      <th>CNT</th>\n",
       "      <th>AVG</th>\n",
       "      <th>BAYESAVG</th>\n",
       "    </tr>\n",
       "    <tr>\n",
       "      <th>MOVIEID</th>\n",
       "      <th></th>\n",
       "      <th></th>\n",
       "      <th></th>\n",
       "      <th></th>\n",
       "      <th></th>\n",
       "      <th></th>\n",
       "      <th></th>\n",
       "    </tr>\n",
       "  </thead>\n",
       "  <tbody>\n",
       "    <tr>\n",
       "      <th>260</th>\n",
       "      <td>Star Wars: Episode IV - A New Hope (1977)</td>\n",
       "      <td>Action|Adventure|Sci-Fi\\r</td>\n",
       "      <td>tt0076759</td>\n",
       "      <td>54502</td>\n",
       "      <td>50180</td>\n",
       "      <td>4</td>\n",
       "      <td>4</td>\n",
       "    </tr>\n",
       "    <tr>\n",
       "      <th>296</th>\n",
       "      <td>Pulp Fiction (1994)</td>\n",
       "      <td>Comedy|Crime|Drama|Thriller\\r</td>\n",
       "      <td>tt0110912</td>\n",
       "      <td>67310</td>\n",
       "      <td>62744</td>\n",
       "      <td>4</td>\n",
       "      <td>4</td>\n",
       "    </tr>\n",
       "    <tr>\n",
       "      <th>593</th>\n",
       "      <td>Silence of the Lambs, The (1991)</td>\n",
       "      <td>Crime|Horror|Thriller\\r</td>\n",
       "      <td>tt0102926</td>\n",
       "      <td>63299</td>\n",
       "      <td>58429</td>\n",
       "      <td>4</td>\n",
       "      <td>4</td>\n",
       "    </tr>\n",
       "  </tbody>\n",
       "</table>\n",
       "</div>"
      ],
      "text/plain": [
       "                                             TITLE  \\\n",
       "MOVIEID                                              \n",
       "260      Star Wars: Episode IV - A New Hope (1977)   \n",
       "296                            Pulp Fiction (1994)   \n",
       "593               Silence of the Lambs, The (1991)   \n",
       "\n",
       "                                 GENRE         TT   CNT0    CNT  AVG  BAYESAVG  \n",
       "MOVIEID                                                                         \n",
       "260          Action|Adventure|Sci-Fi\\r  tt0076759  54502  50180    4         4  \n",
       "296      Comedy|Crime|Drama|Thriller\\r  tt0110912  67310  62744    4         4  \n",
       "593            Crime|Horror|Thriller\\r  tt0102926  63299  58429    4         4  "
      ]
     },
     "execution_count": 36,
     "metadata": {},
     "output_type": "execute_result"
    }
   ],
   "source": [
    "popular[(popular.index <300) | (popular.index >500)]"
   ]
  },
  {
   "cell_type": "markdown",
   "metadata": {},
   "source": [
    "## loc\n",
    "\n",
    "reference by the index value\n"
   ]
  },
  {
   "cell_type": "code",
   "execution_count": 37,
   "metadata": {},
   "outputs": [
    {
     "data": {
      "text/plain": [
       "TITLE       Star Wars: Episode IV - A New Hope (1977)\n",
       "GENRE                       Action|Adventure|Sci-Fi\\r\n",
       "TT                                          tt0076759\n",
       "CNT0                                            54502\n",
       "CNT                                             50180\n",
       "AVG                                                 4\n",
       "BAYESAVG                                            4\n",
       "Name: 260, dtype: object"
      ]
     },
     "execution_count": 37,
     "metadata": {},
     "output_type": "execute_result"
    }
   ],
   "source": [
    "popular.loc[260]"
   ]
  },
  {
   "cell_type": "markdown",
   "metadata": {},
   "source": [
    "## interval reference"
   ]
  },
  {
   "cell_type": "code",
   "execution_count": 38,
   "metadata": {},
   "outputs": [
    {
     "data": {
      "text/html": [
       "<div>\n",
       "<style scoped>\n",
       "    .dataframe tbody tr th:only-of-type {\n",
       "        vertical-align: middle;\n",
       "    }\n",
       "\n",
       "    .dataframe tbody tr th {\n",
       "        vertical-align: top;\n",
       "    }\n",
       "\n",
       "    .dataframe thead th {\n",
       "        text-align: right;\n",
       "    }\n",
       "</style>\n",
       "<table border=\"1\" class=\"dataframe\">\n",
       "  <thead>\n",
       "    <tr style=\"text-align: right;\">\n",
       "      <th></th>\n",
       "      <th>TITLE</th>\n",
       "      <th>GENRE</th>\n",
       "      <th>TT</th>\n",
       "      <th>CNT0</th>\n",
       "      <th>CNT</th>\n",
       "      <th>AVG</th>\n",
       "      <th>BAYESAVG</th>\n",
       "    </tr>\n",
       "    <tr>\n",
       "      <th>MOVIEID</th>\n",
       "      <th></th>\n",
       "      <th></th>\n",
       "      <th></th>\n",
       "      <th></th>\n",
       "      <th></th>\n",
       "      <th></th>\n",
       "      <th></th>\n",
       "    </tr>\n",
       "  </thead>\n",
       "  <tbody>\n",
       "    <tr>\n",
       "      <th>480</th>\n",
       "      <td>Jurassic Park (1993)</td>\n",
       "      <td>Action|Adventure|Sci-Fi|Thriller\\r</td>\n",
       "      <td>tt0107290</td>\n",
       "      <td>59715</td>\n",
       "      <td>54957</td>\n",
       "      <td>4</td>\n",
       "      <td>4</td>\n",
       "    </tr>\n",
       "    <tr>\n",
       "      <th>593</th>\n",
       "      <td>Silence of the Lambs, The (1991)</td>\n",
       "      <td>Crime|Horror|Thriller\\r</td>\n",
       "      <td>tt0102926</td>\n",
       "      <td>63299</td>\n",
       "      <td>58429</td>\n",
       "      <td>4</td>\n",
       "      <td>4</td>\n",
       "    </tr>\n",
       "  </tbody>\n",
       "</table>\n",
       "</div>"
      ],
      "text/plain": [
       "                                    TITLE                               GENRE  \\\n",
       "MOVIEID                                                                         \n",
       "480                  Jurassic Park (1993)  Action|Adventure|Sci-Fi|Thriller\\r   \n",
       "593      Silence of the Lambs, The (1991)             Crime|Horror|Thriller\\r   \n",
       "\n",
       "                TT   CNT0    CNT  AVG  BAYESAVG  \n",
       "MOVIEID                                          \n",
       "480      tt0107290  59715  54957    4         4  \n",
       "593      tt0102926  63299  58429    4         4  "
      ]
     },
     "execution_count": 38,
     "metadata": {},
     "output_type": "execute_result"
    }
   ],
   "source": [
    "popular.loc[420:800]"
   ]
  },
  {
   "cell_type": "markdown",
   "metadata": {},
   "source": [
    "## iloc  reference by the position"
   ]
  },
  {
   "cell_type": "code",
   "execution_count": 39,
   "metadata": {},
   "outputs": [
    {
     "data": {
      "text/html": [
       "<div>\n",
       "<style scoped>\n",
       "    .dataframe tbody tr th:only-of-type {\n",
       "        vertical-align: middle;\n",
       "    }\n",
       "\n",
       "    .dataframe tbody tr th {\n",
       "        vertical-align: top;\n",
       "    }\n",
       "\n",
       "    .dataframe thead th {\n",
       "        text-align: right;\n",
       "    }\n",
       "</style>\n",
       "<table border=\"1\" class=\"dataframe\">\n",
       "  <thead>\n",
       "    <tr style=\"text-align: right;\">\n",
       "      <th></th>\n",
       "      <th>TITLE</th>\n",
       "      <th>GENRE</th>\n",
       "      <th>TT</th>\n",
       "      <th>CNT0</th>\n",
       "      <th>CNT</th>\n",
       "      <th>AVG</th>\n",
       "      <th>BAYESAVG</th>\n",
       "    </tr>\n",
       "    <tr>\n",
       "      <th>MOVIEID</th>\n",
       "      <th></th>\n",
       "      <th></th>\n",
       "      <th></th>\n",
       "      <th></th>\n",
       "      <th></th>\n",
       "      <th></th>\n",
       "      <th></th>\n",
       "    </tr>\n",
       "  </thead>\n",
       "  <tbody>\n",
       "    <tr>\n",
       "      <th>260</th>\n",
       "      <td>Star Wars: Episode IV - A New Hope (1977)</td>\n",
       "      <td>Action|Adventure|Sci-Fi\\r</td>\n",
       "      <td>tt0076759</td>\n",
       "      <td>54502</td>\n",
       "      <td>50180</td>\n",
       "      <td>4</td>\n",
       "      <td>4</td>\n",
       "    </tr>\n",
       "    <tr>\n",
       "      <th>296</th>\n",
       "      <td>Pulp Fiction (1994)</td>\n",
       "      <td>Comedy|Crime|Drama|Thriller\\r</td>\n",
       "      <td>tt0110912</td>\n",
       "      <td>67310</td>\n",
       "      <td>62744</td>\n",
       "      <td>4</td>\n",
       "      <td>4</td>\n",
       "    </tr>\n",
       "  </tbody>\n",
       "</table>\n",
       "</div>"
      ],
      "text/plain": [
       "                                             TITLE  \\\n",
       "MOVIEID                                              \n",
       "260      Star Wars: Episode IV - A New Hope (1977)   \n",
       "296                            Pulp Fiction (1994)   \n",
       "\n",
       "                                 GENRE         TT   CNT0    CNT  AVG  BAYESAVG  \n",
       "MOVIEID                                                                         \n",
       "260          Action|Adventure|Sci-Fi\\r  tt0076759  54502  50180    4         4  \n",
       "296      Comedy|Crime|Drama|Thriller\\r  tt0110912  67310  62744    4         4  "
      ]
     },
     "execution_count": 39,
     "metadata": {},
     "output_type": "execute_result"
    }
   ],
   "source": [
    "popular.iloc[0:2]"
   ]
  },
  {
   "cell_type": "code",
   "execution_count": 40,
   "metadata": {},
   "outputs": [
    {
     "data": {
      "text/html": [
       "<div>\n",
       "<style scoped>\n",
       "    .dataframe tbody tr th:only-of-type {\n",
       "        vertical-align: middle;\n",
       "    }\n",
       "\n",
       "    .dataframe tbody tr th {\n",
       "        vertical-align: top;\n",
       "    }\n",
       "\n",
       "    .dataframe thead th {\n",
       "        text-align: right;\n",
       "    }\n",
       "</style>\n",
       "<table border=\"1\" class=\"dataframe\">\n",
       "  <thead>\n",
       "    <tr style=\"text-align: right;\">\n",
       "      <th></th>\n",
       "      <th>TITLE</th>\n",
       "      <th>GENRE</th>\n",
       "      <th>TT</th>\n",
       "      <th>CNT0</th>\n",
       "    </tr>\n",
       "    <tr>\n",
       "      <th>MOVIEID</th>\n",
       "      <th></th>\n",
       "      <th></th>\n",
       "      <th></th>\n",
       "      <th></th>\n",
       "    </tr>\n",
       "  </thead>\n",
       "  <tbody>\n",
       "    <tr>\n",
       "      <th>260</th>\n",
       "      <td>Star Wars: Episode IV - A New Hope (1977)</td>\n",
       "      <td>Action|Adventure|Sci-Fi\\r</td>\n",
       "      <td>tt0076759</td>\n",
       "      <td>54502</td>\n",
       "    </tr>\n",
       "    <tr>\n",
       "      <th>296</th>\n",
       "      <td>Pulp Fiction (1994)</td>\n",
       "      <td>Comedy|Crime|Drama|Thriller\\r</td>\n",
       "      <td>tt0110912</td>\n",
       "      <td>67310</td>\n",
       "    </tr>\n",
       "    <tr>\n",
       "      <th>318</th>\n",
       "      <td>Shawshank Redemption, The (1994)</td>\n",
       "      <td>Crime|Drama\\r</td>\n",
       "      <td>tt0111161</td>\n",
       "      <td>63366</td>\n",
       "    </tr>\n",
       "  </tbody>\n",
       "</table>\n",
       "</div>"
      ],
      "text/plain": [
       "                                             TITLE  \\\n",
       "MOVIEID                                              \n",
       "260      Star Wars: Episode IV - A New Hope (1977)   \n",
       "296                            Pulp Fiction (1994)   \n",
       "318               Shawshank Redemption, The (1994)   \n",
       "\n",
       "                                 GENRE         TT   CNT0  \n",
       "MOVIEID                                                   \n",
       "260          Action|Adventure|Sci-Fi\\r  tt0076759  54502  \n",
       "296      Comedy|Crime|Drama|Thriller\\r  tt0110912  67310  \n",
       "318                      Crime|Drama\\r  tt0111161  63366  "
      ]
     },
     "execution_count": 40,
     "metadata": {},
     "output_type": "execute_result"
    }
   ],
   "source": [
    "popular.iloc[:3,:4]"
   ]
  },
  {
   "cell_type": "markdown",
   "metadata": {},
   "source": [
    "## selection of both rows and columns"
   ]
  },
  {
   "cell_type": "code",
   "execution_count": 41,
   "metadata": {},
   "outputs": [
    {
     "data": {
      "text/html": [
       "<div>\n",
       "<style scoped>\n",
       "    .dataframe tbody tr th:only-of-type {\n",
       "        vertical-align: middle;\n",
       "    }\n",
       "\n",
       "    .dataframe tbody tr th {\n",
       "        vertical-align: top;\n",
       "    }\n",
       "\n",
       "    .dataframe thead th {\n",
       "        text-align: right;\n",
       "    }\n",
       "</style>\n",
       "<table border=\"1\" class=\"dataframe\">\n",
       "  <thead>\n",
       "    <tr style=\"text-align: right;\">\n",
       "      <th></th>\n",
       "      <th>TITLE</th>\n",
       "      <th>CNT</th>\n",
       "    </tr>\n",
       "    <tr>\n",
       "      <th>MOVIEID</th>\n",
       "      <th></th>\n",
       "      <th></th>\n",
       "    </tr>\n",
       "  </thead>\n",
       "  <tbody>\n",
       "    <tr>\n",
       "      <th>296</th>\n",
       "      <td>Pulp Fiction (1994)</td>\n",
       "      <td>62744</td>\n",
       "    </tr>\n",
       "    <tr>\n",
       "      <th>356</th>\n",
       "      <td>Forrest Gump (1994)</td>\n",
       "      <td>60572</td>\n",
       "    </tr>\n",
       "  </tbody>\n",
       "</table>\n",
       "</div>"
      ],
      "text/plain": [
       "                       TITLE    CNT\n",
       "MOVIEID                            \n",
       "296      Pulp Fiction (1994)  62744\n",
       "356      Forrest Gump (1994)  60572"
      ]
     },
     "execution_count": 41,
     "metadata": {},
     "output_type": "execute_result"
    }
   ],
   "source": [
    "(popular[popular.CNT>=60000])[['TITLE','CNT']]"
   ]
  },
  {
   "cell_type": "markdown",
   "metadata": {},
   "source": [
    "# 2D array"
   ]
  },
  {
   "cell_type": "code",
   "execution_count": 42,
   "metadata": {},
   "outputs": [
    {
     "data": {
      "text/plain": [
       "array([['Star Wars: Episode IV - A New Hope (1977)',\n",
       "        'Action|Adventure|Sci-Fi\\r', 'tt0076759', 54502, 50180, 4, 4],\n",
       "       ['Pulp Fiction (1994)', 'Comedy|Crime|Drama|Thriller\\r',\n",
       "        'tt0110912', 67310, 62744, 4, 4],\n",
       "       ['Shawshank Redemption, The (1994)', 'Crime|Drama\\r', 'tt0111161',\n",
       "        63366, 57486, 4, 4],\n",
       "       ['Forrest Gump (1994)', 'Comedy|Drama|Romance|War\\r', 'tt0109830',\n",
       "        66172, 60572, 4, 4],\n",
       "       ['Jurassic Park (1993)', 'Action|Adventure|Sci-Fi|Thriller\\r',\n",
       "        'tt0107290', 59715, 54957, 4, 4],\n",
       "       ['Silence of the Lambs, The (1991)', 'Crime|Horror|Thriller\\r',\n",
       "        'tt0102926', 63299, 58429, 4, 4]], dtype=object)"
      ]
     },
     "execution_count": 42,
     "metadata": {},
     "output_type": "execute_result"
    }
   ],
   "source": [
    "popular.values"
   ]
  },
  {
   "cell_type": "code",
   "execution_count": 43,
   "metadata": {},
   "outputs": [
    {
     "data": {
      "text/html": [
       "<div>\n",
       "<style scoped>\n",
       "    .dataframe tbody tr th:only-of-type {\n",
       "        vertical-align: middle;\n",
       "    }\n",
       "\n",
       "    .dataframe tbody tr th {\n",
       "        vertical-align: top;\n",
       "    }\n",
       "\n",
       "    .dataframe thead th {\n",
       "        text-align: right;\n",
       "    }\n",
       "</style>\n",
       "<table border=\"1\" class=\"dataframe\">\n",
       "  <thead>\n",
       "    <tr style=\"text-align: right;\">\n",
       "      <th>MOVIEID</th>\n",
       "      <th>260</th>\n",
       "      <th>296</th>\n",
       "      <th>318</th>\n",
       "      <th>356</th>\n",
       "      <th>480</th>\n",
       "      <th>593</th>\n",
       "    </tr>\n",
       "  </thead>\n",
       "  <tbody>\n",
       "    <tr>\n",
       "      <th>TITLE</th>\n",
       "      <td>Star Wars: Episode IV - A New Hope (1977)</td>\n",
       "      <td>Pulp Fiction (1994)</td>\n",
       "      <td>Shawshank Redemption, The (1994)</td>\n",
       "      <td>Forrest Gump (1994)</td>\n",
       "      <td>Jurassic Park (1993)</td>\n",
       "      <td>Silence of the Lambs, The (1991)</td>\n",
       "    </tr>\n",
       "    <tr>\n",
       "      <th>GENRE</th>\n",
       "      <td>Action|Adventure|Sci-Fi\\r</td>\n",
       "      <td>Comedy|Crime|Drama|Thriller\\r</td>\n",
       "      <td>Crime|Drama\\r</td>\n",
       "      <td>Comedy|Drama|Romance|War\\r</td>\n",
       "      <td>Action|Adventure|Sci-Fi|Thriller\\r</td>\n",
       "      <td>Crime|Horror|Thriller\\r</td>\n",
       "    </tr>\n",
       "    <tr>\n",
       "      <th>TT</th>\n",
       "      <td>tt0076759</td>\n",
       "      <td>tt0110912</td>\n",
       "      <td>tt0111161</td>\n",
       "      <td>tt0109830</td>\n",
       "      <td>tt0107290</td>\n",
       "      <td>tt0102926</td>\n",
       "    </tr>\n",
       "    <tr>\n",
       "      <th>CNT0</th>\n",
       "      <td>54502</td>\n",
       "      <td>67310</td>\n",
       "      <td>63366</td>\n",
       "      <td>66172</td>\n",
       "      <td>59715</td>\n",
       "      <td>63299</td>\n",
       "    </tr>\n",
       "    <tr>\n",
       "      <th>CNT</th>\n",
       "      <td>50180</td>\n",
       "      <td>62744</td>\n",
       "      <td>57486</td>\n",
       "      <td>60572</td>\n",
       "      <td>54957</td>\n",
       "      <td>58429</td>\n",
       "    </tr>\n",
       "    <tr>\n",
       "      <th>AVG</th>\n",
       "      <td>4</td>\n",
       "      <td>4</td>\n",
       "      <td>4</td>\n",
       "      <td>4</td>\n",
       "      <td>4</td>\n",
       "      <td>4</td>\n",
       "    </tr>\n",
       "    <tr>\n",
       "      <th>BAYESAVG</th>\n",
       "      <td>4</td>\n",
       "      <td>4</td>\n",
       "      <td>4</td>\n",
       "      <td>4</td>\n",
       "      <td>4</td>\n",
       "      <td>4</td>\n",
       "    </tr>\n",
       "  </tbody>\n",
       "</table>\n",
       "</div>"
      ],
      "text/plain": [
       "MOVIEID                                         260  \\\n",
       "TITLE     Star Wars: Episode IV - A New Hope (1977)   \n",
       "GENRE                     Action|Adventure|Sci-Fi\\r   \n",
       "TT                                        tt0076759   \n",
       "CNT0                                          54502   \n",
       "CNT                                           50180   \n",
       "AVG                                               4   \n",
       "BAYESAVG                                          4   \n",
       "\n",
       "MOVIEID                             296                               318  \\\n",
       "TITLE               Pulp Fiction (1994)  Shawshank Redemption, The (1994)   \n",
       "GENRE     Comedy|Crime|Drama|Thriller\\r                     Crime|Drama\\r   \n",
       "TT                            tt0110912                         tt0111161   \n",
       "CNT0                              67310                             63366   \n",
       "CNT                               62744                             57486   \n",
       "AVG                                   4                                 4   \n",
       "BAYESAVG                              4                                 4   \n",
       "\n",
       "MOVIEID                          356                                 480  \\\n",
       "TITLE            Forrest Gump (1994)                Jurassic Park (1993)   \n",
       "GENRE     Comedy|Drama|Romance|War\\r  Action|Adventure|Sci-Fi|Thriller\\r   \n",
       "TT                         tt0109830                           tt0107290   \n",
       "CNT0                           66172                               59715   \n",
       "CNT                            60572                               54957   \n",
       "AVG                                4                                   4   \n",
       "BAYESAVG                           4                                   4   \n",
       "\n",
       "MOVIEID                                593  \n",
       "TITLE     Silence of the Lambs, The (1991)  \n",
       "GENRE              Crime|Horror|Thriller\\r  \n",
       "TT                               tt0102926  \n",
       "CNT0                                 63299  \n",
       "CNT                                  58429  \n",
       "AVG                                      4  \n",
       "BAYESAVG                                 4  "
      ]
     },
     "execution_count": 43,
     "metadata": {},
     "output_type": "execute_result"
    }
   ],
   "source": [
    "popular.T"
   ]
  },
  {
   "cell_type": "code",
   "execution_count": 44,
   "metadata": {},
   "outputs": [
    {
     "data": {
      "text/plain": [
       "array(['Star Wars: Episode IV - A New Hope (1977)',\n",
       "       'Action|Adventure|Sci-Fi\\r', 'tt0076759', 54502, 50180, 4, 4],\n",
       "      dtype=object)"
      ]
     },
     "execution_count": 44,
     "metadata": {},
     "output_type": "execute_result"
    }
   ],
   "source": [
    "popular.values[0]"
   ]
  },
  {
   "cell_type": "markdown",
   "metadata": {},
   "source": [
    "# Data for you seminar tasks:"
   ]
  },
  {
   "cell_type": "code",
   "execution_count": 45,
   "metadata": {},
   "outputs": [
    {
     "data": {
      "text/html": [
       "<div>\n",
       "<style scoped>\n",
       "    .dataframe tbody tr th:only-of-type {\n",
       "        vertical-align: middle;\n",
       "    }\n",
       "\n",
       "    .dataframe tbody tr th {\n",
       "        vertical-align: top;\n",
       "    }\n",
       "\n",
       "    .dataframe thead th {\n",
       "        text-align: right;\n",
       "    }\n",
       "</style>\n",
       "<table border=\"1\" class=\"dataframe\">\n",
       "  <thead>\n",
       "    <tr style=\"text-align: right;\">\n",
       "      <th></th>\n",
       "      <th></th>\n",
       "      <th>RATING</th>\n",
       "      <th>TS</th>\n",
       "      <th>DT</th>\n",
       "      <th>TOP5</th>\n",
       "      <th>K</th>\n",
       "      <th>DTYY</th>\n",
       "      <th>DTMM</th>\n",
       "      <th>DTDW</th>\n",
       "      <th>DTHH</th>\n",
       "      <th>KTT</th>\n",
       "      <th>TRAIN</th>\n",
       "      <th>TEST</th>\n",
       "      <th>DIFF</th>\n",
       "    </tr>\n",
       "    <tr>\n",
       "      <th>MOVIEID</th>\n",
       "      <th>USERID</th>\n",
       "      <th></th>\n",
       "      <th></th>\n",
       "      <th></th>\n",
       "      <th></th>\n",
       "      <th></th>\n",
       "      <th></th>\n",
       "      <th></th>\n",
       "      <th></th>\n",
       "      <th></th>\n",
       "      <th></th>\n",
       "      <th></th>\n",
       "      <th></th>\n",
       "      <th></th>\n",
       "    </tr>\n",
       "  </thead>\n",
       "  <tbody>\n",
       "    <tr>\n",
       "      <th rowspan=\"5\" valign=\"top\">1</th>\n",
       "      <th>3</th>\n",
       "      <td>4.0</td>\n",
       "      <td>944919407</td>\n",
       "      <td>1999-12-11 13:36:47</td>\n",
       "      <td>None</td>\n",
       "      <td>81</td>\n",
       "      <td>1999</td>\n",
       "      <td>12</td>\n",
       "      <td>7</td>\n",
       "      <td>13</td>\n",
       "      <td>81</td>\n",
       "      <td>A</td>\n",
       "      <td>N</td>\n",
       "      <td>0.0</td>\n",
       "    </tr>\n",
       "    <tr>\n",
       "      <th>6</th>\n",
       "      <td>5.0</td>\n",
       "      <td>858275452</td>\n",
       "      <td>1997-03-13 17:50:52</td>\n",
       "      <td>None</td>\n",
       "      <td>18</td>\n",
       "      <td>1997</td>\n",
       "      <td>3</td>\n",
       "      <td>5</td>\n",
       "      <td>17</td>\n",
       "      <td>18</td>\n",
       "      <td>A</td>\n",
       "      <td>N</td>\n",
       "      <td>1.0</td>\n",
       "    </tr>\n",
       "    <tr>\n",
       "      <th>8</th>\n",
       "      <td>4.0</td>\n",
       "      <td>833981871</td>\n",
       "      <td>1996-06-05 13:37:51</td>\n",
       "      <td>None</td>\n",
       "      <td>45</td>\n",
       "      <td>1996</td>\n",
       "      <td>6</td>\n",
       "      <td>4</td>\n",
       "      <td>13</td>\n",
       "      <td>45</td>\n",
       "      <td>A</td>\n",
       "      <td>N</td>\n",
       "      <td>0.0</td>\n",
       "    </tr>\n",
       "    <tr>\n",
       "      <th>10</th>\n",
       "      <td>4.0</td>\n",
       "      <td>943497887</td>\n",
       "      <td>1999-11-25 02:44:47</td>\n",
       "      <td>None</td>\n",
       "      <td>5</td>\n",
       "      <td>1999</td>\n",
       "      <td>11</td>\n",
       "      <td>5</td>\n",
       "      <td>2</td>\n",
       "      <td>5</td>\n",
       "      <td>N</td>\n",
       "      <td>A</td>\n",
       "      <td>NaN</td>\n",
       "    </tr>\n",
       "    <tr>\n",
       "      <th>11</th>\n",
       "      <td>4.5</td>\n",
       "      <td>1230858821</td>\n",
       "      <td>2009-01-02 01:13:41</td>\n",
       "      <td>None</td>\n",
       "      <td>138</td>\n",
       "      <td>2009</td>\n",
       "      <td>1</td>\n",
       "      <td>6</td>\n",
       "      <td>1</td>\n",
       "      <td>138</td>\n",
       "      <td>A</td>\n",
       "      <td>N</td>\n",
       "      <td>0.5</td>\n",
       "    </tr>\n",
       "  </tbody>\n",
       "</table>\n",
       "</div>"
      ],
      "text/plain": [
       "                RATING          TS                  DT  TOP5    K  DTYY  DTMM  \\\n",
       "MOVIEID USERID                                                                  \n",
       "1       3          4.0   944919407 1999-12-11 13:36:47  None   81  1999    12   \n",
       "        6          5.0   858275452 1997-03-13 17:50:52  None   18  1997     3   \n",
       "        8          4.0   833981871 1996-06-05 13:37:51  None   45  1996     6   \n",
       "        10         4.0   943497887 1999-11-25 02:44:47  None    5  1999    11   \n",
       "        11         4.5  1230858821 2009-01-02 01:13:41  None  138  2009     1   \n",
       "\n",
       "                DTDW  DTHH  KTT TRAIN TEST  DIFF  \n",
       "MOVIEID USERID                                    \n",
       "1       3          7    13   81     A    N   0.0  \n",
       "        6          5    17   18     A    N   1.0  \n",
       "        8          4    13   45     A    N   0.0  \n",
       "        10         5     2    5     N    A   NaN  \n",
       "        11         6     1  138     A    N   0.5  "
      ]
     },
     "execution_count": 45,
     "metadata": {},
     "output_type": "execute_result"
    }
   ],
   "source": [
    "try:\n",
    "    connection =cx_Oracle.connect(user='websem', password='websem108', \n",
    "                                  dsn='tirpitz.ms.mff.cuni.cz:1511/jedenact.ms.mff.cuni.cz')\n",
    "    ratings=pd.read_sql_query('select * from MRATINGS WHERE MOVIEID<20',connection,index_col=['MOVIEID','USERID'])\n",
    "except:\n",
    "    ratings= pd.read_json('data/ratings.json')\n",
    "\n",
    "ratings.head()"
   ]
  },
  {
   "cell_type": "code",
   "execution_count": 46,
   "metadata": {},
   "outputs": [],
   "source": [
    "ratings.reset_index(inplace=True)"
   ]
  },
  {
   "cell_type": "code",
   "execution_count": 47,
   "metadata": {},
   "outputs": [
    {
     "data": {
      "text/html": [
       "<div>\n",
       "<style scoped>\n",
       "    .dataframe tbody tr th:only-of-type {\n",
       "        vertical-align: middle;\n",
       "    }\n",
       "\n",
       "    .dataframe tbody tr th {\n",
       "        vertical-align: top;\n",
       "    }\n",
       "\n",
       "    .dataframe thead th {\n",
       "        text-align: right;\n",
       "    }\n",
       "</style>\n",
       "<table border=\"1\" class=\"dataframe\">\n",
       "  <thead>\n",
       "    <tr style=\"text-align: right;\">\n",
       "      <th></th>\n",
       "      <th>MOVIEID</th>\n",
       "      <th>USERID</th>\n",
       "      <th>RATING</th>\n",
       "      <th>TS</th>\n",
       "      <th>DT</th>\n",
       "      <th>TOP5</th>\n",
       "      <th>K</th>\n",
       "      <th>DTYY</th>\n",
       "      <th>DTMM</th>\n",
       "      <th>DTDW</th>\n",
       "      <th>DTHH</th>\n",
       "      <th>KTT</th>\n",
       "      <th>TRAIN</th>\n",
       "      <th>TEST</th>\n",
       "      <th>DIFF</th>\n",
       "    </tr>\n",
       "  </thead>\n",
       "  <tbody>\n",
       "    <tr>\n",
       "      <th>0</th>\n",
       "      <td>1</td>\n",
       "      <td>3</td>\n",
       "      <td>4.0</td>\n",
       "      <td>944919407</td>\n",
       "      <td>1999-12-11 13:36:47</td>\n",
       "      <td>None</td>\n",
       "      <td>81</td>\n",
       "      <td>1999</td>\n",
       "      <td>12</td>\n",
       "      <td>7</td>\n",
       "      <td>13</td>\n",
       "      <td>81</td>\n",
       "      <td>A</td>\n",
       "      <td>N</td>\n",
       "      <td>0.0</td>\n",
       "    </tr>\n",
       "    <tr>\n",
       "      <th>1</th>\n",
       "      <td>1</td>\n",
       "      <td>6</td>\n",
       "      <td>5.0</td>\n",
       "      <td>858275452</td>\n",
       "      <td>1997-03-13 17:50:52</td>\n",
       "      <td>None</td>\n",
       "      <td>18</td>\n",
       "      <td>1997</td>\n",
       "      <td>3</td>\n",
       "      <td>5</td>\n",
       "      <td>17</td>\n",
       "      <td>18</td>\n",
       "      <td>A</td>\n",
       "      <td>N</td>\n",
       "      <td>1.0</td>\n",
       "    </tr>\n",
       "    <tr>\n",
       "      <th>2</th>\n",
       "      <td>1</td>\n",
       "      <td>8</td>\n",
       "      <td>4.0</td>\n",
       "      <td>833981871</td>\n",
       "      <td>1996-06-05 13:37:51</td>\n",
       "      <td>None</td>\n",
       "      <td>45</td>\n",
       "      <td>1996</td>\n",
       "      <td>6</td>\n",
       "      <td>4</td>\n",
       "      <td>13</td>\n",
       "      <td>45</td>\n",
       "      <td>A</td>\n",
       "      <td>N</td>\n",
       "      <td>0.0</td>\n",
       "    </tr>\n",
       "    <tr>\n",
       "      <th>3</th>\n",
       "      <td>1</td>\n",
       "      <td>10</td>\n",
       "      <td>4.0</td>\n",
       "      <td>943497887</td>\n",
       "      <td>1999-11-25 02:44:47</td>\n",
       "      <td>None</td>\n",
       "      <td>5</td>\n",
       "      <td>1999</td>\n",
       "      <td>11</td>\n",
       "      <td>5</td>\n",
       "      <td>2</td>\n",
       "      <td>5</td>\n",
       "      <td>N</td>\n",
       "      <td>A</td>\n",
       "      <td>NaN</td>\n",
       "    </tr>\n",
       "    <tr>\n",
       "      <th>4</th>\n",
       "      <td>1</td>\n",
       "      <td>11</td>\n",
       "      <td>4.5</td>\n",
       "      <td>1230858821</td>\n",
       "      <td>2009-01-02 01:13:41</td>\n",
       "      <td>None</td>\n",
       "      <td>138</td>\n",
       "      <td>2009</td>\n",
       "      <td>1</td>\n",
       "      <td>6</td>\n",
       "      <td>1</td>\n",
       "      <td>138</td>\n",
       "      <td>A</td>\n",
       "      <td>N</td>\n",
       "      <td>0.5</td>\n",
       "    </tr>\n",
       "    <tr>\n",
       "      <th>...</th>\n",
       "      <td>...</td>\n",
       "      <td>...</td>\n",
       "      <td>...</td>\n",
       "      <td>...</td>\n",
       "      <td>...</td>\n",
       "      <td>...</td>\n",
       "      <td>...</td>\n",
       "      <td>...</td>\n",
       "      <td>...</td>\n",
       "      <td>...</td>\n",
       "      <td>...</td>\n",
       "      <td>...</td>\n",
       "      <td>...</td>\n",
       "      <td>...</td>\n",
       "      <td>...</td>\n",
       "    </tr>\n",
       "    <tr>\n",
       "      <th>267427</th>\n",
       "      <td>19</td>\n",
       "      <td>138406</td>\n",
       "      <td>4.0</td>\n",
       "      <td>1155426512</td>\n",
       "      <td>2006-08-12 23:48:32</td>\n",
       "      <td>None</td>\n",
       "      <td>347</td>\n",
       "      <td>2006</td>\n",
       "      <td>8</td>\n",
       "      <td>7</td>\n",
       "      <td>23</td>\n",
       "      <td>347</td>\n",
       "      <td>A</td>\n",
       "      <td>N</td>\n",
       "      <td>1.0</td>\n",
       "    </tr>\n",
       "    <tr>\n",
       "      <th>267428</th>\n",
       "      <td>19</td>\n",
       "      <td>138474</td>\n",
       "      <td>5.0</td>\n",
       "      <td>966406535</td>\n",
       "      <td>2000-08-16 06:15:35</td>\n",
       "      <td>None</td>\n",
       "      <td>64</td>\n",
       "      <td>2000</td>\n",
       "      <td>8</td>\n",
       "      <td>4</td>\n",
       "      <td>6</td>\n",
       "      <td>64</td>\n",
       "      <td>A</td>\n",
       "      <td>N</td>\n",
       "      <td>2.0</td>\n",
       "    </tr>\n",
       "    <tr>\n",
       "      <th>267429</th>\n",
       "      <td>19</td>\n",
       "      <td>138483</td>\n",
       "      <td>1.0</td>\n",
       "      <td>833831393</td>\n",
       "      <td>1996-06-03 19:49:53</td>\n",
       "      <td>None</td>\n",
       "      <td>240</td>\n",
       "      <td>1996</td>\n",
       "      <td>6</td>\n",
       "      <td>2</td>\n",
       "      <td>19</td>\n",
       "      <td>240</td>\n",
       "      <td>A</td>\n",
       "      <td>N</td>\n",
       "      <td>-2.0</td>\n",
       "    </tr>\n",
       "    <tr>\n",
       "      <th>267430</th>\n",
       "      <td>19</td>\n",
       "      <td>138484</td>\n",
       "      <td>2.0</td>\n",
       "      <td>836154340</td>\n",
       "      <td>1996-06-30 17:05:40</td>\n",
       "      <td>None</td>\n",
       "      <td>117</td>\n",
       "      <td>1996</td>\n",
       "      <td>6</td>\n",
       "      <td>1</td>\n",
       "      <td>17</td>\n",
       "      <td>117</td>\n",
       "      <td>A</td>\n",
       "      <td>N</td>\n",
       "      <td>-1.0</td>\n",
       "    </tr>\n",
       "    <tr>\n",
       "      <th>267431</th>\n",
       "      <td>19</td>\n",
       "      <td>138493</td>\n",
       "      <td>4.0</td>\n",
       "      <td>1255810576</td>\n",
       "      <td>2009-10-17 20:16:16</td>\n",
       "      <td>None</td>\n",
       "      <td>279</td>\n",
       "      <td>2009</td>\n",
       "      <td>10</td>\n",
       "      <td>7</td>\n",
       "      <td>20</td>\n",
       "      <td>279</td>\n",
       "      <td>A</td>\n",
       "      <td>N</td>\n",
       "      <td>1.0</td>\n",
       "    </tr>\n",
       "  </tbody>\n",
       "</table>\n",
       "<p>267432 rows × 15 columns</p>\n",
       "</div>"
      ],
      "text/plain": [
       "        MOVIEID  USERID  RATING          TS                  DT  TOP5    K  \\\n",
       "0             1       3     4.0   944919407 1999-12-11 13:36:47  None   81   \n",
       "1             1       6     5.0   858275452 1997-03-13 17:50:52  None   18   \n",
       "2             1       8     4.0   833981871 1996-06-05 13:37:51  None   45   \n",
       "3             1      10     4.0   943497887 1999-11-25 02:44:47  None    5   \n",
       "4             1      11     4.5  1230858821 2009-01-02 01:13:41  None  138   \n",
       "...         ...     ...     ...         ...                 ...   ...  ...   \n",
       "267427       19  138406     4.0  1155426512 2006-08-12 23:48:32  None  347   \n",
       "267428       19  138474     5.0   966406535 2000-08-16 06:15:35  None   64   \n",
       "267429       19  138483     1.0   833831393 1996-06-03 19:49:53  None  240   \n",
       "267430       19  138484     2.0   836154340 1996-06-30 17:05:40  None  117   \n",
       "267431       19  138493     4.0  1255810576 2009-10-17 20:16:16  None  279   \n",
       "\n",
       "        DTYY  DTMM  DTDW  DTHH  KTT TRAIN TEST  DIFF  \n",
       "0       1999    12     7    13   81     A    N   0.0  \n",
       "1       1997     3     5    17   18     A    N   1.0  \n",
       "2       1996     6     4    13   45     A    N   0.0  \n",
       "3       1999    11     5     2    5     N    A   NaN  \n",
       "4       2009     1     6     1  138     A    N   0.5  \n",
       "...      ...   ...   ...   ...  ...   ...  ...   ...  \n",
       "267427  2006     8     7    23  347     A    N   1.0  \n",
       "267428  2000     8     4     6   64     A    N   2.0  \n",
       "267429  1996     6     2    19  240     A    N  -2.0  \n",
       "267430  1996     6     1    17  117     A    N  -1.0  \n",
       "267431  2009    10     7    20  279     A    N   1.0  \n",
       "\n",
       "[267432 rows x 15 columns]"
      ]
     },
     "execution_count": 47,
     "metadata": {},
     "output_type": "execute_result"
    }
   ],
   "source": [
    "ratings"
   ]
  },
  {
   "cell_type": "code",
   "execution_count": 48,
   "metadata": {},
   "outputs": [],
   "source": [
    "with open('data/ratings.json', 'w') as f:\n",
    "    f.write(ratings.to_json())"
   ]
  },
  {
   "cell_type": "code",
   "execution_count": 49,
   "metadata": {},
   "outputs": [
    {
     "data": {
      "text/html": [
       "<div>\n",
       "<style scoped>\n",
       "    .dataframe tbody tr th:only-of-type {\n",
       "        vertical-align: middle;\n",
       "    }\n",
       "\n",
       "    .dataframe tbody tr th {\n",
       "        vertical-align: top;\n",
       "    }\n",
       "\n",
       "    .dataframe thead th {\n",
       "        text-align: right;\n",
       "    }\n",
       "</style>\n",
       "<table border=\"1\" class=\"dataframe\">\n",
       "  <thead>\n",
       "    <tr style=\"text-align: right;\">\n",
       "      <th></th>\n",
       "      <th>MOVIEID</th>\n",
       "      <th>USERID</th>\n",
       "      <th>RATING</th>\n",
       "      <th>TS</th>\n",
       "      <th>DT</th>\n",
       "      <th>TOP5</th>\n",
       "      <th>K</th>\n",
       "      <th>DTYY</th>\n",
       "      <th>DTMM</th>\n",
       "      <th>DTDW</th>\n",
       "      <th>DTHH</th>\n",
       "      <th>KTT</th>\n",
       "      <th>TRAIN</th>\n",
       "      <th>TEST</th>\n",
       "      <th>DIFF</th>\n",
       "    </tr>\n",
       "  </thead>\n",
       "  <tbody>\n",
       "    <tr>\n",
       "      <th>0</th>\n",
       "      <td>1</td>\n",
       "      <td>3</td>\n",
       "      <td>4.0</td>\n",
       "      <td>944919407</td>\n",
       "      <td>944919407000</td>\n",
       "      <td>NaN</td>\n",
       "      <td>81</td>\n",
       "      <td>1999</td>\n",
       "      <td>12</td>\n",
       "      <td>7</td>\n",
       "      <td>13</td>\n",
       "      <td>81</td>\n",
       "      <td>A</td>\n",
       "      <td>N</td>\n",
       "      <td>0.0</td>\n",
       "    </tr>\n",
       "    <tr>\n",
       "      <th>1</th>\n",
       "      <td>1</td>\n",
       "      <td>6</td>\n",
       "      <td>5.0</td>\n",
       "      <td>858275452</td>\n",
       "      <td>858275452000</td>\n",
       "      <td>NaN</td>\n",
       "      <td>18</td>\n",
       "      <td>1997</td>\n",
       "      <td>3</td>\n",
       "      <td>5</td>\n",
       "      <td>17</td>\n",
       "      <td>18</td>\n",
       "      <td>A</td>\n",
       "      <td>N</td>\n",
       "      <td>1.0</td>\n",
       "    </tr>\n",
       "    <tr>\n",
       "      <th>2</th>\n",
       "      <td>1</td>\n",
       "      <td>8</td>\n",
       "      <td>4.0</td>\n",
       "      <td>833981871</td>\n",
       "      <td>833981871000</td>\n",
       "      <td>NaN</td>\n",
       "      <td>45</td>\n",
       "      <td>1996</td>\n",
       "      <td>6</td>\n",
       "      <td>4</td>\n",
       "      <td>13</td>\n",
       "      <td>45</td>\n",
       "      <td>A</td>\n",
       "      <td>N</td>\n",
       "      <td>0.0</td>\n",
       "    </tr>\n",
       "    <tr>\n",
       "      <th>3</th>\n",
       "      <td>1</td>\n",
       "      <td>10</td>\n",
       "      <td>4.0</td>\n",
       "      <td>943497887</td>\n",
       "      <td>943497887000</td>\n",
       "      <td>NaN</td>\n",
       "      <td>5</td>\n",
       "      <td>1999</td>\n",
       "      <td>11</td>\n",
       "      <td>5</td>\n",
       "      <td>2</td>\n",
       "      <td>5</td>\n",
       "      <td>N</td>\n",
       "      <td>A</td>\n",
       "      <td>NaN</td>\n",
       "    </tr>\n",
       "    <tr>\n",
       "      <th>4</th>\n",
       "      <td>1</td>\n",
       "      <td>11</td>\n",
       "      <td>4.5</td>\n",
       "      <td>1230858821</td>\n",
       "      <td>1230858821000</td>\n",
       "      <td>NaN</td>\n",
       "      <td>138</td>\n",
       "      <td>2009</td>\n",
       "      <td>1</td>\n",
       "      <td>6</td>\n",
       "      <td>1</td>\n",
       "      <td>138</td>\n",
       "      <td>A</td>\n",
       "      <td>N</td>\n",
       "      <td>0.5</td>\n",
       "    </tr>\n",
       "  </tbody>\n",
       "</table>\n",
       "</div>"
      ],
      "text/plain": [
       "   MOVIEID  USERID  RATING          TS             DT  TOP5    K  DTYY  DTMM  \\\n",
       "0        1       3     4.0   944919407   944919407000   NaN   81  1999    12   \n",
       "1        1       6     5.0   858275452   858275452000   NaN   18  1997     3   \n",
       "2        1       8     4.0   833981871   833981871000   NaN   45  1996     6   \n",
       "3        1      10     4.0   943497887   943497887000   NaN    5  1999    11   \n",
       "4        1      11     4.5  1230858821  1230858821000   NaN  138  2009     1   \n",
       "\n",
       "   DTDW  DTHH  KTT TRAIN TEST  DIFF  \n",
       "0     7    13   81     A    N   0.0  \n",
       "1     5    17   18     A    N   1.0  \n",
       "2     4    13   45     A    N   0.0  \n",
       "3     5     2    5     N    A   NaN  \n",
       "4     6     1  138     A    N   0.5  "
      ]
     },
     "execution_count": 49,
     "metadata": {},
     "output_type": "execute_result"
    }
   ],
   "source": [
    "rat=pd.read_json('data/ratings.json')\n",
    "rat.head()"
   ]
  },
  {
   "cell_type": "markdown",
   "metadata": {},
   "source": [
    "# Tasks for the first seminar\n",
    "1. Read the table RATINGS  (data/ratings.json or from the Oracle database).\n",
    "3. Write down the list of columns. Answer with a sentence, not just the print.\n",
    "4. How many rows has the dataframe?\n",
    "6. How many records with MOVEID<20  and RATING==5 ?\n",
    "7. What movies are rated by the user USERID ==11 ?\n",
    "8. Put your name into a markdown comment and submit the file into https://su.mff.cuni.cz/view/browse/home/martav/seminardm/students/seminar1 .\n",
    "\n"
   ]
  }
 ],
 "metadata": {
  "hide_input": false,
  "kernelspec": {
   "display_name": "Python 3",
   "language": "python",
   "name": "python3"
  },
  "language_info": {
   "codemirror_mode": {
    "name": "ipython",
    "version": 3
   },
   "file_extension": ".py",
   "mimetype": "text/x-python",
   "name": "python",
   "nbconvert_exporter": "python",
   "pygments_lexer": "ipython3",
   "version": "3.10.4"
  },
  "vscode": {
   "interpreter": {
    "hash": "a5bc51c57937139e8fe6267605f6d0ab67cc5357af67af51e19a2944db27f086"
   }
  }
 },
 "nbformat": 4,
 "nbformat_minor": 2
}
